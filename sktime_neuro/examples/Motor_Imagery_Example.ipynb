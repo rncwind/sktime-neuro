{
 "cells": [
  {
   "cell_type": "code",
   "execution_count": 23,
   "id": "fbd48c3d",
   "metadata": {},
   "outputs": [],
   "source": [
    "# get data\n",
    "import pandas as pd\n",
    "# ML stuff\n",
    "from mne.decoding import CSP\n",
    "from mne_bids import BIDSPath, read_raw_bids\n",
    "from sklearn.discriminant_analysis import LinearDiscriminantAnalysis\n",
    "from sklearn.model_selection import GridSearchCV\n",
    "from sklearn.pipeline import Pipeline\n",
    "# series to series transformer\n",
    "from sktime.transformations.series.detrend import Detrender\n",
    "from sktime.forecasting.trend import TrendForecaster\n",
    "\n",
    "# panel to panel transformers\n",
    "from sktime_neuro.transformations.panel.baselinecorrection import \\\n",
    "    BaselineCorrectionTransformer as Baseline\n",
    "from sktime_neuro.transformations.series.filterforseries import FilterforSeries\n",
    "from sktime_neuro.transformations.series.seriesdownsampling import \\\n",
    "    SeriesDownsampling\n",
    "from sktime_neuro.transformations.series_to_panel.eeg_epoching import epoch\n",
    "# epoching\n",
    "from sktime_neuro.utils import mne_processing as utils\n",
    "# To get data paths\n",
    "from pooch import os_cache"
   ]
  },
  {
   "cell_type": "markdown",
   "id": "af1e71a7",
   "metadata": {},
   "source": [
    "## Get Bids Data into sktime Series format"
   ]
  },
  {
   "cell_type": "code",
   "execution_count": 24,
   "id": "33cd0229",
   "metadata": {},
   "outputs": [
    {
     "name": "stderr",
     "output_type": "stream",
     "text": [
      "/tmp/ipykernel_71188/3419896517.py:8: RuntimeWarning: Omitted 300 annotation(s) that were outside data range.\n",
      "  raw = read_raw_bids(bids_path=bids_path, verbose=False)\n",
      "/tmp/ipykernel_71188/3419896517.py:8: RuntimeWarning: Omitted 300 annotation(s) that were outside data range.\n",
      "  raw = read_raw_bids(bids_path=bids_path, verbose=False)\n",
      "/tmp/ipykernel_71188/3419896517.py:8: RuntimeWarning: Did not find any eeg.json associated with sub-08_task-matchingpennies.\n",
      "\n",
      "The search_str was \"/home/patchouli/.cache/sktime_neuro/eeg_matchingpennies/sub-08/**/eeg/sub-08*eeg.json\"\n",
      "  raw = read_raw_bids(bids_path=bids_path, verbose=False)\n"
     ]
    }
   ],
   "source": [
    "# example can be downloaded here: https://osf.io/cj2dr/\n",
    "# Get pooch cahe dir, since our data is there by convention now.\n",
    "root = os_cache(\"sktime_neuro\") / \"eeg_matchingpennies\"\n",
    "bids_path = BIDSPath(\n",
    "    subject=\"08\", task=\"matchingpennies\", suffix=\"eeg\", datatype=\"eeg\", root=root\n",
    ")\n",
    "\n",
    "raw = read_raw_bids(bids_path=bids_path, verbose=False)\n",
    "\n",
    "# mne assumes shape channels*timepoints;sktime assumes shape timepoints*channels\n",
    "data = raw.get_data().transpose()"
   ]
  },
  {
   "cell_type": "markdown",
   "id": "3df761b0",
   "metadata": {},
   "source": [
    "## Apply Series to Series Transformer"
   ]
  },
  {
   "cell_type": "code",
   "execution_count": 25,
   "id": "31ce2737",
   "metadata": {},
   "outputs": [],
   "source": [
    "downsampled_data = SeriesDownsampling(2).fit_transform(data)"
   ]
  },
  {
   "cell_type": "code",
   "execution_count": 26,
   "id": "d1c7a85d",
   "metadata": {},
   "outputs": [],
   "source": [
    "#detrended_data = Detrender().fit_transform(pd.DataFrame(downsampled_data))\n",
    "detrended_data = downsampled_data"
   ]
  },
  {
   "cell_type": "code",
   "execution_count": 27,
   "id": "b735c524",
   "metadata": {},
   "outputs": [
    {
     "name": "stdout",
     "output_type": "stream",
     "text": [
      "Setting up band-pass filter from 8 - 16 Hz\n",
      "\n",
      "FIR filter parameters\n",
      "---------------------\n",
      "Designing a one-pass, zero-phase, non-causal bandpass filter:\n",
      "- Windowed time-domain design (firwin) method\n",
      "- Hamming window with 0.0194 passband ripple and 53 dB stopband attenuation\n",
      "- Lower passband edge: 8.00\n",
      "- Lower transition bandwidth: 2.00 Hz (-6 dB cutoff frequency: 7.00 Hz)\n",
      "- Upper passband edge: 16.00 Hz\n",
      "- Upper transition bandwidth: 4.00 Hz (-6 dB cutoff frequency: 18.00 Hz)\n",
      "- Filter length: 413 samples (1.652 sec)\n",
      "\n"
     ]
    },
    {
     "name": "stderr",
     "output_type": "stream",
     "text": [
      "/home/patchouli/programming/foss/sktime-neuro/sktime_neuro/transformations/series/filterforseries.py:87: RuntimeWarning: filter_length (413) is longer than the signal (1), distortion is likely. Reduce filter length or filter a longer signal.\n",
      "  z = filter.filter_data(\n"
     ]
    }
   ],
   "source": [
    "filtered_data = FilterforSeries(l_freq=8, h_freq=16, sfreq=250).fit_transform(\n",
    "    detrended_data\n",
    ")"
   ]
  },
  {
   "cell_type": "markdown",
   "id": "d3d72a1e",
   "metadata": {},
   "source": [
    "## Epoch"
   ]
  },
  {
   "cell_type": "code",
   "execution_count": 28,
   "id": "206e36c0",
   "metadata": {},
   "outputs": [],
   "source": [
    "annotation = utils.create_annotation(raw)\n",
    "\n",
    "data, labels = epoch(\n",
    "    Z=filtered_data,\n",
    "    annotation=annotation,\n",
    "    labels=[\"right/2\", \"left/1\"],\n",
    "    interval=[-0.5, 1.5],\n",
    "    sfreq=250,\n",
    ")"
   ]
  },
  {
   "cell_type": "markdown",
   "id": "aa9fc219",
   "metadata": {},
   "source": [
    "## Apply Panel-To-Panel Transformers"
   ]
  },
  {
   "cell_type": "code",
   "execution_count": 29,
   "id": "69bbd971",
   "metadata": {},
   "outputs": [
    {
     "ename": "ValueError",
     "evalue": "Found array with: 0 instance(s) but a minimum of: 1 is required.",
     "output_type": "error",
     "traceback": [
      "\u001B[0;31m---------------------------------------------------------------------------\u001B[0m",
      "\u001B[0;31mValueError\u001B[0m                                Traceback (most recent call last)",
      "Input \u001B[0;32mIn [29]\u001B[0m, in \u001B[0;36m<cell line: 1>\u001B[0;34m()\u001B[0m\n\u001B[0;32m----> 1\u001B[0m bl_corrected \u001B[38;5;241m=\u001B[39m \u001B[43mBaseline\u001B[49m\u001B[43m(\u001B[49m\u001B[43mupper\u001B[49m\u001B[38;5;241;43m=\u001B[39;49m\u001B[38;5;241;43m0.5\u001B[39;49m\u001B[43m,\u001B[49m\u001B[43m \u001B[49m\u001B[43mfs\u001B[49m\u001B[38;5;241;43m=\u001B[39;49m\u001B[38;5;241;43m250\u001B[39;49m\u001B[43m)\u001B[49m\u001B[38;5;241;43m.\u001B[39;49m\u001B[43mfit_transform\u001B[49m\u001B[43m(\u001B[49m\u001B[43mdata\u001B[49m\u001B[43m)\u001B[49m\n",
      "File \u001B[0;32m~/programming/foss/sktime-neuro/sktime_neuro/transformations/base.py:88\u001B[0m, in \u001B[0;36mBaseTransformer.fit_transform\u001B[0;34m(self, Z, X)\u001B[0m\n\u001B[1;32m     84\u001B[0m \u001B[38;5;66;03m# Non-optimized default implementation; override when a better\u001B[39;00m\n\u001B[1;32m     85\u001B[0m \u001B[38;5;66;03m# method is possible for a given algorithm.\u001B[39;00m\n\u001B[1;32m     86\u001B[0m \u001B[38;5;28;01mif\u001B[39;00m X \u001B[38;5;129;01mis\u001B[39;00m \u001B[38;5;28;01mNone\u001B[39;00m:\n\u001B[1;32m     87\u001B[0m     \u001B[38;5;66;03m# Fit method of arity 1 (unsupervised transformation)\u001B[39;00m\n\u001B[0;32m---> 88\u001B[0m     \u001B[38;5;28;01mreturn\u001B[39;00m \u001B[38;5;28;43mself\u001B[39;49m\u001B[38;5;241;43m.\u001B[39;49m\u001B[43mfit\u001B[49m\u001B[43m(\u001B[49m\u001B[43mZ\u001B[49m\u001B[43m)\u001B[49m\u001B[38;5;241;43m.\u001B[39;49m\u001B[43mtransform\u001B[49m\u001B[43m(\u001B[49m\u001B[43mZ\u001B[49m\u001B[43m)\u001B[49m\n\u001B[1;32m     89\u001B[0m \u001B[38;5;28;01melse\u001B[39;00m:\n\u001B[1;32m     90\u001B[0m     \u001B[38;5;66;03m# Fit method of arity 2 (supervised transformation)\u001B[39;00m\n\u001B[1;32m     91\u001B[0m     \u001B[38;5;28;01mreturn\u001B[39;00m \u001B[38;5;28mself\u001B[39m\u001B[38;5;241m.\u001B[39mfit(Z, X)\u001B[38;5;241m.\u001B[39mtransform(Z)\n",
      "File \u001B[0;32m~/programming/foss/sktime-neuro/sktime_neuro/transformations/panel/baselinecorrection.py:59\u001B[0m, in \u001B[0;36mBaselineCorrectionTransformer.transform\u001B[0;34m(self, X, y)\u001B[0m\n\u001B[1;32m     55\u001B[0m     \u001B[38;5;28;01mraise\u001B[39;00m \u001B[38;5;167;01mTypeError\u001B[39;00m(\n\u001B[1;32m     56\u001B[0m         \u001B[38;5;124m\"\u001B[39m\u001B[38;5;124mstart and end need to be numbers or none;\u001B[39m\u001B[38;5;124m\"\u001B[39m \u001B[38;5;124m\"\u001B[39m\u001B[38;5;124mfs needs to be a number.\u001B[39m\u001B[38;5;124m\"\u001B[39m\n\u001B[1;32m     57\u001B[0m     )\n\u001B[1;32m     58\u001B[0m \u001B[38;5;28mself\u001B[39m\u001B[38;5;241m.\u001B[39mcheck_is_fitted()\n\u001B[0;32m---> 59\u001B[0m X \u001B[38;5;241m=\u001B[39m \u001B[43mcheck_X\u001B[49m\u001B[43m(\u001B[49m\u001B[43mX\u001B[49m\u001B[43m,\u001B[49m\u001B[43m \u001B[49m\u001B[43mcoerce_to_numpy\u001B[49m\u001B[38;5;241;43m=\u001B[39;49m\u001B[38;5;28;43;01mTrue\u001B[39;49;00m\u001B[43m)\u001B[49m\n\u001B[1;32m     61\u001B[0m \u001B[38;5;66;03m# check if boundaries make sense\u001B[39;00m\n\u001B[1;32m     62\u001B[0m \u001B[38;5;28;01mif\u001B[39;00m \u001B[38;5;28mself\u001B[39m\u001B[38;5;241m.\u001B[39mlower \u001B[38;5;129;01mis\u001B[39;00m \u001B[38;5;129;01mnot\u001B[39;00m \u001B[38;5;28;01mNone\u001B[39;00m:\n",
      "File \u001B[0;32m~/.local/share/virtualenvs/sktime-neuro-EViz1zTZ/lib/python3.8/site-packages/sktime/utils/validation/panel.py:102\u001B[0m, in \u001B[0;36mcheck_X\u001B[0;34m(X, enforce_univariate, enforce_min_instances, enforce_min_columns, coerce_to_numpy, coerce_to_pandas)\u001B[0m\n\u001B[1;32m    100\u001B[0m \u001B[38;5;66;03m# enforce minimum number of instances\u001B[39;00m\n\u001B[1;32m    101\u001B[0m \u001B[38;5;28;01mif\u001B[39;00m enforce_min_instances \u001B[38;5;241m>\u001B[39m \u001B[38;5;241m0\u001B[39m:\n\u001B[0;32m--> 102\u001B[0m     \u001B[43m_enforce_min_instances\u001B[49m\u001B[43m(\u001B[49m\u001B[43mX\u001B[49m\u001B[43m,\u001B[49m\u001B[43m \u001B[49m\u001B[43mmin_instances\u001B[49m\u001B[38;5;241;43m=\u001B[39;49m\u001B[43menforce_min_instances\u001B[49m\u001B[43m)\u001B[49m\n\u001B[1;32m    104\u001B[0m \u001B[38;5;66;03m# check pd.DataFrame\u001B[39;00m\n\u001B[1;32m    105\u001B[0m \u001B[38;5;28;01mif\u001B[39;00m \u001B[38;5;28misinstance\u001B[39m(X, pd\u001B[38;5;241m.\u001B[39mDataFrame):\n",
      "File \u001B[0;32m~/.local/share/virtualenvs/sktime-neuro-EViz1zTZ/lib/python3.8/site-packages/sktime/utils/validation/panel.py:206\u001B[0m, in \u001B[0;36m_enforce_min_instances\u001B[0;34m(x, min_instances)\u001B[0m\n\u001B[1;32m    204\u001B[0m n_instances \u001B[38;5;241m=\u001B[39m x\u001B[38;5;241m.\u001B[39mshape[\u001B[38;5;241m0\u001B[39m]\n\u001B[1;32m    205\u001B[0m \u001B[38;5;28;01mif\u001B[39;00m n_instances \u001B[38;5;241m<\u001B[39m min_instances:\n\u001B[0;32m--> 206\u001B[0m     \u001B[38;5;28;01mraise\u001B[39;00m \u001B[38;5;167;01mValueError\u001B[39;00m(\n\u001B[1;32m    207\u001B[0m         \u001B[38;5;124mf\u001B[39m\u001B[38;5;124m\"\u001B[39m\u001B[38;5;124mFound array with: \u001B[39m\u001B[38;5;132;01m{\u001B[39;00mn_instances\u001B[38;5;132;01m}\u001B[39;00m\u001B[38;5;124m instance(s) \u001B[39m\u001B[38;5;124m\"\u001B[39m\n\u001B[1;32m    208\u001B[0m         \u001B[38;5;124mf\u001B[39m\u001B[38;5;124m\"\u001B[39m\u001B[38;5;124mbut a minimum of: \u001B[39m\u001B[38;5;132;01m{\u001B[39;00mmin_instances\u001B[38;5;132;01m}\u001B[39;00m\u001B[38;5;124m is required.\u001B[39m\u001B[38;5;124m\"\u001B[39m\n\u001B[1;32m    209\u001B[0m     )\n",
      "\u001B[0;31mValueError\u001B[0m: Found array with: 0 instance(s) but a minimum of: 1 is required."
     ]
    }
   ],
   "source": [
    "bl_corrected = Baseline(upper=0.5, fs=250).fit_transform(data)"
   ]
  },
  {
   "cell_type": "markdown",
   "id": "1ba55ad2",
   "metadata": {},
   "source": [
    "## Classify Trials"
   ]
  },
  {
   "cell_type": "code",
   "execution_count": null,
   "id": "452bf1fe",
   "metadata": {},
   "outputs": [],
   "source": [
    "# Assemble a classifier\n",
    "\n",
    "# filterer = PaneltoPanelFilter() # should not be done for short samples\n",
    "csp = CSP(transform_into=\"average_power\")\n",
    "lda = LinearDiscriminantAnalysis()\n",
    "\n",
    "\n",
    "param_grid = {\n",
    "    \"CSP__n_components\": [1, 2, 3, 4, 5, 7, 10],\n",
    "}\n",
    "\n",
    "# Use scikit-learn Pipeline with cross_val_score function\n",
    "pipe = Pipeline(steps=[(\"CSP\", csp), (\"LDA\", lda)])\n",
    "\n",
    "search = GridSearchCV(pipe, param_grid, n_jobs=-1)\n",
    "search.fit(bl_corrected, labels)\n",
    "print(\"Best parameter (CV score=%0.3f):\" % search.best_score_)\n",
    "print(search.best_params_)"
   ]
  }
 ],
 "metadata": {
  "kernelspec": {
   "display_name": "Python 3",
   "language": "python",
   "name": "python3"
  },
  "language_info": {
   "codemirror_mode": {
    "name": "ipython",
    "version": 3
   },
   "file_extension": ".py",
   "mimetype": "text/x-python",
   "name": "python",
   "nbconvert_exporter": "python",
   "pygments_lexer": "ipython3",
   "version": "3.8.10"
  }
 },
 "nbformat": 4,
 "nbformat_minor": 5
}