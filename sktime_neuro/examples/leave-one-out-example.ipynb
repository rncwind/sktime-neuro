{
 "cells": [
  {
   "cell_type": "code",
   "execution_count": 1,
   "metadata": {
    "collapsed": true,
    "pycharm": {
     "name": "#%%\n"
    }
   },
   "outputs": [],
   "source": [
    "if 'autoreload' not in get_ipython().extension_manager.loaded:\n",
    "    %load_ext autoreload\n",
    "%autoreload 2\n",
    "import numpy as np\n",
    "import datetime\n",
    "from sktime_neuro.utils.pickle_wrapper import deserialise_if_exists, serialise_if_doesnt_exist\n",
    "from sktime_neuro.datasets.matching_pennies_util import *\n",
    "from sktime_neuro.transformations.multivariate_detrender import ColumnDetrender\n",
    "from sktime_neuro.transformations.PREP import do_prep, build_prep_params\n",
    "from sktime_neuro.transformations.series_to_panel.eeg_epoching import epoch\n",
    "from sktime_neuro.utils.mne_processing import create_annotation\n",
    "from sktime.classification.kernel_based import RocketClassifier\n",
    "from sklearn.metrics import *"
   ]
  },
  {
   "cell_type": "code",
   "execution_count": 2,
   "outputs": [],
   "source": [
    "def detrend(data, n_jobs=1):\n",
    "    dt = ColumnDetrender(data)\n",
    "    return dt.detrend(n_jobs=n_jobs)"
   ],
   "metadata": {
    "collapsed": false,
    "pycharm": {
     "name": "#%%\n"
    }
   }
  },
  {
   "cell_type": "code",
   "execution_count": 3,
   "outputs": [],
   "source": [
    "def process(sid):\n",
    "    raw = get_raw(sid)\n",
    "    sf = raw.info['sfreq']\n",
    "\n",
    "    annot = create_annotation(raw)\n",
    "    data = raw.get_data().transpose()\n",
    "    detrended = detrend(data, -1)\n",
    "    return (annot, detrended, sf)\n",
    "\n",
    "def leaveOneOut(leaveOut: int):\n",
    "    leftout = None\n",
    "    datasets = []\n",
    "    for i in range(5,12):\n",
    "        if i == leaveOut:\n",
    "            leftout = process(i)\n",
    "        else:\n",
    "            datasets.append(process(i))\n",
    "    return datasets, leftout"
   ],
   "metadata": {
    "collapsed": false,
    "pycharm": {
     "name": "#%%\n"
    }
   }
  },
  {
   "cell_type": "code",
   "execution_count": 4,
   "outputs": [
    {
     "name": "stdout",
     "output_type": "stream",
     "text": [
      "Reading 0 ... 9348356  =      0.000 ...  1869.671 secs...\n"
     ]
    },
    {
     "name": "stderr",
     "output_type": "stream",
     "text": [
      "/home/patchouli/programming/foss/sktime-neuro/sktime_neuro/datasets/matching_pennies_util.py:10: RuntimeWarning: Did not find any eeg.json associated with sub-05_task-matchingpennies.\n",
      "\n",
      "The search_str was \"/home/patchouli/programming/foss/sktime-neuro/cache/eeg_matchingpennies/sub-05/**/eeg/sub-05*eeg.json\"\n",
      "  return read_raw_bids(bids_path=bidspath, verbose=False)\n"
     ]
    },
    {
     "name": "stdout",
     "output_type": "stream",
     "text": [
      "Setting up high-pass filter at 1 Hz\n",
      "\n",
      "FIR filter parameters\n",
      "---------------------\n",
      "Designing a one-pass, zero-phase, non-causal highpass filter:\n",
      "- Windowed time-domain design (firwin) method\n",
      "- Hamming window with 0.0194 passband ripple and 53 dB stopband attenuation\n",
      "- Lower passband edge: 1.00\n",
      "- Lower transition bandwidth: 1.00 Hz (-6 dB cutoff frequency: 0.50 Hz)\n",
      "- Filter length: 16501 samples (3.300 sec)\n",
      "\n",
      "Setting up high-pass filter at 1 Hz\n",
      "\n",
      "FIR filter parameters\n",
      "---------------------\n",
      "Designing a one-pass, zero-phase, non-causal highpass filter:\n",
      "- Windowed time-domain design (firwin) method\n",
      "- Hamming window with 0.0194 passband ripple and 53 dB stopband attenuation\n",
      "- Lower passband edge: 1.00\n",
      "- Lower transition bandwidth: 1.00 Hz (-6 dB cutoff frequency: 0.50 Hz)\n",
      "- Filter length: 16501 samples (3.300 sec)\n",
      "\n"
     ]
    },
    {
     "ename": "KeyboardInterrupt",
     "evalue": "",
     "output_type": "error",
     "traceback": [
      "\u001B[0;31m---------------------------------------------------------------------------\u001B[0m",
      "\u001B[0;31mKeyboardInterrupt\u001B[0m                         Traceback (most recent call last)",
      "Input \u001B[0;32mIn [4]\u001B[0m, in \u001B[0;36m<cell line: 1>\u001B[0;34m()\u001B[0m\n\u001B[0;32m----> 1\u001B[0m datasets, leftout \u001B[38;5;241m=\u001B[39m \u001B[43mleaveOneOut\u001B[49m\u001B[43m(\u001B[49m\u001B[38;5;241;43m5\u001B[39;49m\u001B[43m)\u001B[49m\n",
      "Input \u001B[0;32mIn [3]\u001B[0m, in \u001B[0;36mleaveOneOut\u001B[0;34m(leaveOut)\u001B[0m\n\u001B[1;32m     17\u001B[0m \u001B[38;5;28;01mfor\u001B[39;00m i \u001B[38;5;129;01min\u001B[39;00m \u001B[38;5;28mrange\u001B[39m(\u001B[38;5;241m5\u001B[39m,\u001B[38;5;241m12\u001B[39m):\n\u001B[1;32m     18\u001B[0m     \u001B[38;5;28;01mif\u001B[39;00m i \u001B[38;5;241m==\u001B[39m leaveOut:\n\u001B[0;32m---> 19\u001B[0m         leftout \u001B[38;5;241m=\u001B[39m \u001B[43mprocess\u001B[49m\u001B[43m(\u001B[49m\u001B[43mi\u001B[49m\u001B[43m)\u001B[49m\n\u001B[1;32m     20\u001B[0m     \u001B[38;5;28;01melse\u001B[39;00m:\n\u001B[1;32m     21\u001B[0m         datasets\u001B[38;5;241m.\u001B[39mappend(process(i))\n",
      "Input \u001B[0;32mIn [3]\u001B[0m, in \u001B[0;36mprocess\u001B[0;34m(sid)\u001B[0m\n\u001B[1;32m      3\u001B[0m sf \u001B[38;5;241m=\u001B[39m raw\u001B[38;5;241m.\u001B[39minfo[\u001B[38;5;124m'\u001B[39m\u001B[38;5;124msfreq\u001B[39m\u001B[38;5;124m'\u001B[39m]\n\u001B[1;32m      4\u001B[0m params \u001B[38;5;241m=\u001B[39m build_prep_params(\u001B[38;5;241m60.0\u001B[39m, sf, \u001B[38;5;124m\"\u001B[39m\u001B[38;5;124meeg\u001B[39m\u001B[38;5;124m\"\u001B[39m, \u001B[38;5;28;01mNone\u001B[39;00m)\n\u001B[0;32m----> 5\u001B[0m prepped \u001B[38;5;241m=\u001B[39m \u001B[43mdo_prep\u001B[49m\u001B[43m(\u001B[49m\u001B[43mraw\u001B[49m\u001B[43m,\u001B[49m\u001B[43m \u001B[49m\u001B[43mparams\u001B[49m\u001B[43m)\u001B[49m\n\u001B[1;32m      7\u001B[0m annot \u001B[38;5;241m=\u001B[39m create_annotation(raw)\n\u001B[1;32m      8\u001B[0m \u001B[38;5;66;03m#data = raw.get_data().transpose()\u001B[39;00m\n\u001B[1;32m      9\u001B[0m \u001B[38;5;66;03m#detrended = detrend(data, -1)\u001B[39;00m\n",
      "File \u001B[0;32m~/programming/foss/sktime-neuro/sktime_neuro/transformations/PREP.py:19\u001B[0m, in \u001B[0;36mdo_prep\u001B[0;34m(rawDataset, prep_params, montageKind)\u001B[0m\n\u001B[1;32m     17\u001B[0m rc \u001B[38;5;241m=\u001B[39m rawDataset\u001B[38;5;241m.\u001B[39mcopy()\n\u001B[1;32m     18\u001B[0m prep \u001B[38;5;241m=\u001B[39m PrepPipeline(rc, prep_params, montage)\n\u001B[0;32m---> 19\u001B[0m \u001B[43mprep\u001B[49m\u001B[38;5;241;43m.\u001B[39;49m\u001B[43mfit\u001B[49m\u001B[43m(\u001B[49m\u001B[43m)\u001B[49m\n\u001B[1;32m     20\u001B[0m \u001B[38;5;28;01mreturn\u001B[39;00m prep\u001B[38;5;241m.\u001B[39mEEG_new\n",
      "File \u001B[0;32m~/.local/share/virtualenvs/sktime-neuro-EViz1zTZ/src/pyprep/pyprep/prep_pipeline.py:195\u001B[0m, in \u001B[0;36mPrepPipeline.fit\u001B[0;34m(self)\u001B[0m\n\u001B[1;32m    193\u001B[0m linenoise \u001B[38;5;241m=\u001B[39m \u001B[38;5;28mself\u001B[39m\u001B[38;5;241m.\u001B[39mprep_params[\u001B[38;5;124m\"\u001B[39m\u001B[38;5;124mline_freqs\u001B[39m\u001B[38;5;124m\"\u001B[39m]\n\u001B[1;32m    194\u001B[0m \u001B[38;5;28;01mif\u001B[39;00m \u001B[38;5;28mself\u001B[39m\u001B[38;5;241m.\u001B[39mfilter_kwargs \u001B[38;5;129;01mis\u001B[39;00m \u001B[38;5;28;01mNone\u001B[39;00m:\n\u001B[0;32m--> 195\u001B[0m     \u001B[38;5;28mself\u001B[39m\u001B[38;5;241m.\u001B[39mEEG_clean \u001B[38;5;241m=\u001B[39m \u001B[43mmne\u001B[49m\u001B[38;5;241;43m.\u001B[39;49m\u001B[43mfilter\u001B[49m\u001B[38;5;241;43m.\u001B[39;49m\u001B[43mnotch_filter\u001B[49m\u001B[43m(\u001B[49m\n\u001B[1;32m    196\u001B[0m \u001B[43m        \u001B[49m\u001B[38;5;28;43mself\u001B[39;49m\u001B[38;5;241;43m.\u001B[39;49m\u001B[43mEEG_new\u001B[49m\u001B[43m,\u001B[49m\n\u001B[1;32m    197\u001B[0m \u001B[43m        \u001B[49m\u001B[43mFs\u001B[49m\u001B[38;5;241;43m=\u001B[39;49m\u001B[38;5;28;43mself\u001B[39;49m\u001B[38;5;241;43m.\u001B[39;49m\u001B[43msfreq\u001B[49m\u001B[43m,\u001B[49m\n\u001B[1;32m    198\u001B[0m \u001B[43m        \u001B[49m\u001B[43mfreqs\u001B[49m\u001B[38;5;241;43m=\u001B[39;49m\u001B[43mlinenoise\u001B[49m\u001B[43m,\u001B[49m\n\u001B[1;32m    199\u001B[0m \u001B[43m        \u001B[49m\u001B[43mmethod\u001B[49m\u001B[38;5;241;43m=\u001B[39;49m\u001B[38;5;124;43m\"\u001B[39;49m\u001B[38;5;124;43mspectrum_fit\u001B[39;49m\u001B[38;5;124;43m\"\u001B[39;49m\u001B[43m,\u001B[49m\n\u001B[1;32m    200\u001B[0m \u001B[43m        \u001B[49m\u001B[43mmt_bandwidth\u001B[49m\u001B[38;5;241;43m=\u001B[39;49m\u001B[38;5;241;43m2\u001B[39;49m\u001B[43m,\u001B[49m\n\u001B[1;32m    201\u001B[0m \u001B[43m        \u001B[49m\u001B[43mp_value\u001B[49m\u001B[38;5;241;43m=\u001B[39;49m\u001B[38;5;241;43m0.01\u001B[39;49m\u001B[43m,\u001B[49m\n\u001B[1;32m    202\u001B[0m \u001B[43m        \u001B[49m\u001B[43mfilter_length\u001B[49m\u001B[38;5;241;43m=\u001B[39;49m\u001B[38;5;124;43m\"\u001B[39;49m\u001B[38;5;124;43m10s\u001B[39;49m\u001B[38;5;124;43m\"\u001B[39;49m\u001B[43m,\u001B[49m\n\u001B[1;32m    203\u001B[0m \u001B[43m    \u001B[49m\u001B[43m)\u001B[49m\n\u001B[1;32m    204\u001B[0m \u001B[38;5;28;01melse\u001B[39;00m:\n\u001B[1;32m    205\u001B[0m     \u001B[38;5;28mself\u001B[39m\u001B[38;5;241m.\u001B[39mEEG_clean \u001B[38;5;241m=\u001B[39m mne\u001B[38;5;241m.\u001B[39mfilter\u001B[38;5;241m.\u001B[39mnotch_filter(\n\u001B[1;32m    206\u001B[0m         \u001B[38;5;28mself\u001B[39m\u001B[38;5;241m.\u001B[39mEEG_new,\n\u001B[1;32m    207\u001B[0m         Fs\u001B[38;5;241m=\u001B[39m\u001B[38;5;28mself\u001B[39m\u001B[38;5;241m.\u001B[39msfreq,\n\u001B[1;32m    208\u001B[0m         freqs\u001B[38;5;241m=\u001B[39mlinenoise,\n\u001B[1;32m    209\u001B[0m         \u001B[38;5;241m*\u001B[39m\u001B[38;5;241m*\u001B[39m\u001B[38;5;28mself\u001B[39m\u001B[38;5;241m.\u001B[39mfilter_kwargs,\n\u001B[1;32m    210\u001B[0m     )\n",
      "File \u001B[0;32m<decorator-gen-112>:12\u001B[0m, in \u001B[0;36mnotch_filter\u001B[0;34m(x, Fs, freqs, filter_length, notch_widths, trans_bandwidth, method, iir_params, mt_bandwidth, p_value, picks, n_jobs, copy, phase, fir_window, fir_design, pad, verbose)\u001B[0m\n",
      "File \u001B[0;32m~/.local/share/virtualenvs/sktime-neuro-EViz1zTZ/lib/python3.8/site-packages/mne/filter.py:1195\u001B[0m, in \u001B[0;36mnotch_filter\u001B[0;34m(x, Fs, freqs, filter_length, notch_widths, trans_bandwidth, method, iir_params, mt_bandwidth, p_value, picks, n_jobs, copy, phase, fir_window, fir_design, pad, verbose)\u001B[0m\n\u001B[1;32m   1191\u001B[0m     xf \u001B[38;5;241m=\u001B[39m filter_data(x, Fs, highs, lows, picks, filter_length, tb_2, tb_2,\n\u001B[1;32m   1192\u001B[0m                      n_jobs, method, iir_params, copy, phase, fir_window,\n\u001B[1;32m   1193\u001B[0m                      fir_design, pad\u001B[38;5;241m=\u001B[39mpad)\n\u001B[1;32m   1194\u001B[0m \u001B[38;5;28;01melif\u001B[39;00m method \u001B[38;5;241m==\u001B[39m \u001B[38;5;124m'\u001B[39m\u001B[38;5;124mspectrum_fit\u001B[39m\u001B[38;5;124m'\u001B[39m:\n\u001B[0;32m-> 1195\u001B[0m     xf \u001B[38;5;241m=\u001B[39m \u001B[43m_mt_spectrum_proc\u001B[49m\u001B[43m(\u001B[49m\u001B[43mx\u001B[49m\u001B[43m,\u001B[49m\u001B[43m \u001B[49m\u001B[43mFs\u001B[49m\u001B[43m,\u001B[49m\u001B[43m \u001B[49m\u001B[43mfreqs\u001B[49m\u001B[43m,\u001B[49m\u001B[43m \u001B[49m\u001B[43mnotch_widths\u001B[49m\u001B[43m,\u001B[49m\u001B[43m \u001B[49m\u001B[43mmt_bandwidth\u001B[49m\u001B[43m,\u001B[49m\n\u001B[1;32m   1196\u001B[0m \u001B[43m                           \u001B[49m\u001B[43mp_value\u001B[49m\u001B[43m,\u001B[49m\u001B[43m \u001B[49m\u001B[43mpicks\u001B[49m\u001B[43m,\u001B[49m\u001B[43m \u001B[49m\u001B[43mn_jobs\u001B[49m\u001B[43m,\u001B[49m\u001B[43m \u001B[49m\u001B[43mcopy\u001B[49m\u001B[43m,\u001B[49m\u001B[43m \u001B[49m\u001B[43mfilter_length\u001B[49m\u001B[43m)\u001B[49m\n\u001B[1;32m   1198\u001B[0m \u001B[38;5;28;01mreturn\u001B[39;00m xf\n",
      "File \u001B[0;32m~/.local/share/virtualenvs/sktime-neuro-EViz1zTZ/lib/python3.8/site-packages/mne/filter.py:1240\u001B[0m, in \u001B[0;36m_mt_spectrum_proc\u001B[0;34m(x, sfreq, line_freqs, notch_widths, mt_bandwidth, p_value, picks, n_jobs, copy, filter_length)\u001B[0m\n\u001B[1;32m   1238\u001B[0m     \u001B[38;5;28;01mfor\u001B[39;00m ii, x_ \u001B[38;5;129;01min\u001B[39;00m \u001B[38;5;28menumerate\u001B[39m(x):\n\u001B[1;32m   1239\u001B[0m         \u001B[38;5;28;01mif\u001B[39;00m ii \u001B[38;5;129;01min\u001B[39;00m picks:\n\u001B[0;32m-> 1240\u001B[0m             x[ii], f \u001B[38;5;241m=\u001B[39m \u001B[43m_mt_spectrum_remove_win\u001B[49m\u001B[43m(\u001B[49m\n\u001B[1;32m   1241\u001B[0m \u001B[43m                \u001B[49m\u001B[43mx_\u001B[49m\u001B[43m,\u001B[49m\u001B[43m \u001B[49m\u001B[43msfreq\u001B[49m\u001B[43m,\u001B[49m\u001B[43m \u001B[49m\u001B[43mline_freqs\u001B[49m\u001B[43m,\u001B[49m\u001B[43m \u001B[49m\u001B[43mnotch_widths\u001B[49m\u001B[43m,\u001B[49m\u001B[43m \u001B[49m\u001B[43mwindow_fun\u001B[49m\u001B[43m,\u001B[49m\u001B[43m \u001B[49m\u001B[43mthreshold\u001B[49m\u001B[43m,\u001B[49m\n\u001B[1;32m   1242\u001B[0m \u001B[43m                \u001B[49m\u001B[43mget_wt\u001B[49m\u001B[43m)\u001B[49m\n\u001B[1;32m   1243\u001B[0m             freq_list\u001B[38;5;241m.\u001B[39mappend(f)\n\u001B[1;32m   1244\u001B[0m \u001B[38;5;28;01melse\u001B[39;00m:\n",
      "File \u001B[0;32m~/.local/share/virtualenvs/sktime-neuro-EViz1zTZ/lib/python3.8/site-packages/mne/filter.py:1291\u001B[0m, in \u001B[0;36m_mt_spectrum_remove_win\u001B[0;34m(x, sfreq, line_freqs, notch_widths, window_fun, threshold, get_thresh)\u001B[0m\n\u001B[1;32m   1288\u001B[0m     x_out[\u001B[38;5;241m.\u001B[39m\u001B[38;5;241m.\u001B[39m\u001B[38;5;241m.\u001B[39m, idx[\u001B[38;5;241m0\u001B[39m]:stop] \u001B[38;5;241m+\u001B[39m\u001B[38;5;241m=\u001B[39m x_\n\u001B[1;32m   1289\u001B[0m     idx[\u001B[38;5;241m0\u001B[39m] \u001B[38;5;241m=\u001B[39m stop\n\u001B[0;32m-> 1291\u001B[0m \u001B[43m_COLA\u001B[49m\u001B[43m(\u001B[49m\u001B[43mprocess\u001B[49m\u001B[43m,\u001B[49m\u001B[43m \u001B[49m\u001B[43mstore\u001B[49m\u001B[43m,\u001B[49m\u001B[43m \u001B[49m\u001B[43mn_times\u001B[49m\u001B[43m,\u001B[49m\u001B[43m \u001B[49m\u001B[43mn_samples\u001B[49m\u001B[43m,\u001B[49m\u001B[43m \u001B[49m\u001B[43mn_overlap\u001B[49m\u001B[43m,\u001B[49m\u001B[43m \u001B[49m\u001B[43msfreq\u001B[49m\u001B[43m,\u001B[49m\n\u001B[1;32m   1292\u001B[0m \u001B[43m      \u001B[49m\u001B[43mverbose\u001B[49m\u001B[38;5;241;43m=\u001B[39;49m\u001B[38;5;28;43;01mFalse\u001B[39;49;00m\u001B[43m)\u001B[49m\u001B[38;5;241;43m.\u001B[39;49m\u001B[43mfeed\u001B[49m\u001B[43m(\u001B[49m\u001B[43mx\u001B[49m\u001B[43m)\u001B[49m\n\u001B[1;32m   1293\u001B[0m \u001B[38;5;28;01massert\u001B[39;00m idx[\u001B[38;5;241m0\u001B[39m] \u001B[38;5;241m==\u001B[39m n_times\n\u001B[1;32m   1294\u001B[0m \u001B[38;5;28;01mreturn\u001B[39;00m x_out, rm_freqs\n",
      "File \u001B[0;32m<decorator-gen-108>:12\u001B[0m, in \u001B[0;36mfeed\u001B[0;34m(self, verbose, *datas, **kwargs)\u001B[0m\n",
      "File \u001B[0;32m~/.local/share/virtualenvs/sktime-neuro-EViz1zTZ/lib/python3.8/site-packages/mne/_ola.py:377\u001B[0m, in \u001B[0;36m_COLA.feed\u001B[0;34m(self, verbose, *datas, **kwargs)\u001B[0m\n\u001B[1;32m    374\u001B[0m \u001B[38;5;28;01mif\u001B[39;00m \u001B[38;5;129;01mnot\u001B[39;00m \u001B[38;5;28mall\u001B[39m(proc\u001B[38;5;241m.\u001B[39mshape[\u001B[38;5;241m-\u001B[39m\u001B[38;5;241m1\u001B[39m] \u001B[38;5;241m==\u001B[39m this_len \u001B[38;5;241m==\u001B[39m this_window\u001B[38;5;241m.\u001B[39msize\n\u001B[1;32m    375\u001B[0m            \u001B[38;5;28;01mfor\u001B[39;00m proc \u001B[38;5;129;01min\u001B[39;00m this_proc):\n\u001B[1;32m    376\u001B[0m     \u001B[38;5;28;01mraise\u001B[39;00m \u001B[38;5;167;01mRuntimeError\u001B[39;00m(\u001B[38;5;124m'\u001B[39m\u001B[38;5;124minternal indexing error\u001B[39m\u001B[38;5;124m'\u001B[39m)\n\u001B[0;32m--> 377\u001B[0m outs \u001B[38;5;241m=\u001B[39m \u001B[38;5;28;43mself\u001B[39;49m\u001B[38;5;241;43m.\u001B[39;49m\u001B[43m_process\u001B[49m\u001B[43m(\u001B[49m\u001B[38;5;241;43m*\u001B[39;49m\u001B[43mthis_proc\u001B[49m\u001B[43m,\u001B[49m\u001B[43m \u001B[49m\u001B[38;5;241;43m*\u001B[39;49m\u001B[38;5;241;43m*\u001B[39;49m\u001B[43mkwargs\u001B[49m\u001B[43m)\u001B[49m\n\u001B[1;32m    378\u001B[0m \u001B[38;5;28;01mif\u001B[39;00m \u001B[38;5;28mself\u001B[39m\u001B[38;5;241m.\u001B[39m_out_buffers \u001B[38;5;129;01mis\u001B[39;00m \u001B[38;5;28;01mNone\u001B[39;00m:\n\u001B[1;32m    379\u001B[0m     max_len \u001B[38;5;241m=\u001B[39m np\u001B[38;5;241m.\u001B[39mmax(\u001B[38;5;28mself\u001B[39m\u001B[38;5;241m.\u001B[39mstops \u001B[38;5;241m-\u001B[39m \u001B[38;5;28mself\u001B[39m\u001B[38;5;241m.\u001B[39mstarts)\n",
      "File \u001B[0;32m~/.local/share/virtualenvs/sktime-neuro-EViz1zTZ/lib/python3.8/site-packages/mne/filter.py:1279\u001B[0m, in \u001B[0;36m_mt_spectrum_remove_win.<locals>.process\u001B[0;34m(x_)\u001B[0m\n\u001B[1;32m   1278\u001B[0m \u001B[38;5;28;01mdef\u001B[39;00m \u001B[38;5;21mprocess\u001B[39m(x_):\n\u001B[0;32m-> 1279\u001B[0m     out \u001B[38;5;241m=\u001B[39m \u001B[43m_mt_spectrum_remove\u001B[49m\u001B[43m(\u001B[49m\n\u001B[1;32m   1280\u001B[0m \u001B[43m        \u001B[49m\u001B[43mx_\u001B[49m\u001B[43m,\u001B[49m\u001B[43m \u001B[49m\u001B[43msfreq\u001B[49m\u001B[43m,\u001B[49m\u001B[43m \u001B[49m\u001B[43mline_freqs\u001B[49m\u001B[43m,\u001B[49m\u001B[43m \u001B[49m\u001B[43mnotch_widths\u001B[49m\u001B[43m,\u001B[49m\u001B[43m \u001B[49m\u001B[43mwindow_fun\u001B[49m\u001B[43m,\u001B[49m\u001B[43m \u001B[49m\u001B[43mthreshold\u001B[49m\u001B[43m,\u001B[49m\n\u001B[1;32m   1281\u001B[0m \u001B[43m        \u001B[49m\u001B[43mget_thresh\u001B[49m\u001B[43m)\u001B[49m\n\u001B[1;32m   1282\u001B[0m     rm_freqs\u001B[38;5;241m.\u001B[39mappend(out[\u001B[38;5;241m1\u001B[39m])\n\u001B[1;32m   1283\u001B[0m     \u001B[38;5;28;01mreturn\u001B[39;00m (out[\u001B[38;5;241m0\u001B[39m],)\n",
      "File \u001B[0;32m~/.local/share/virtualenvs/sktime-neuro-EViz1zTZ/lib/python3.8/site-packages/mne/filter.py:1362\u001B[0m, in \u001B[0;36m_mt_spectrum_remove\u001B[0;34m(x, sfreq, line_freqs, notch_widths, window_fun, threshold, get_thresh)\u001B[0m\n\u001B[1;32m   1360\u001B[0m \u001B[38;5;28;01mfor\u001B[39;00m ind \u001B[38;5;129;01min\u001B[39;00m indices:\n\u001B[1;32m   1361\u001B[0m     c \u001B[38;5;241m=\u001B[39m \u001B[38;5;241m2\u001B[39m \u001B[38;5;241m*\u001B[39m A[\u001B[38;5;241m0\u001B[39m, ind]\n\u001B[0;32m-> 1362\u001B[0m     fit \u001B[38;5;241m=\u001B[39m np\u001B[38;5;241m.\u001B[39mabs(c) \u001B[38;5;241m*\u001B[39m \u001B[43mnp\u001B[49m\u001B[38;5;241;43m.\u001B[39;49m\u001B[43mcos\u001B[49m\u001B[43m(\u001B[49m\u001B[43mfreqs\u001B[49m\u001B[43m[\u001B[49m\u001B[43mind\u001B[49m\u001B[43m]\u001B[49m\u001B[43m \u001B[49m\u001B[38;5;241;43m*\u001B[39;49m\u001B[43m \u001B[49m\u001B[43mrads\u001B[49m\u001B[43m \u001B[49m\u001B[38;5;241;43m+\u001B[39;49m\u001B[43m \u001B[49m\u001B[43mnp\u001B[49m\u001B[38;5;241;43m.\u001B[39;49m\u001B[43mangle\u001B[49m\u001B[43m(\u001B[49m\u001B[43mc\u001B[49m\u001B[43m)\u001B[49m\u001B[43m)\u001B[49m\n\u001B[1;32m   1363\u001B[0m     fits\u001B[38;5;241m.\u001B[39mappend(fit)\n\u001B[1;32m   1365\u001B[0m \u001B[38;5;28;01mif\u001B[39;00m \u001B[38;5;28mlen\u001B[39m(fits) \u001B[38;5;241m==\u001B[39m \u001B[38;5;241m0\u001B[39m:\n",
      "\u001B[0;31mKeyboardInterrupt\u001B[0m: "
     ]
    }
   ],
   "source": [
    "datasets, leftout = leaveOneOut(5)"
   ],
   "metadata": {
    "collapsed": false,
    "pycharm": {
     "name": "#%%\n"
    }
   }
  },
  {
   "cell_type": "code",
   "execution_count": null,
   "outputs": [],
   "source": [
    "onsetlabels = [\"raised-right/match-true\", \"raised-right/match-false\",\n",
    "               \"raised-left/match-true\", \"raised-left/match-false\"]\n",
    "\n",
    "def epoch_dataset(dataset):\n",
    "    epochs, labels = epoch(dataset[1], dataset[0], onsetlabels, [-0.5, 0.5], sfreq=dataset[2])\n",
    "    return (epochs, labels)\n",
    "\n",
    "def epoch_all(datasets):\n",
    "    epoched = []\n",
    "    for dataset in datasets:\n",
    "        epoched.append(epoch_dataset(dataset))\n",
    "\n",
    "    return epoched"
   ],
   "metadata": {
    "collapsed": false,
    "pycharm": {
     "name": "#%%\n"
    }
   }
  },
  {
   "cell_type": "code",
   "execution_count": null,
   "outputs": [],
   "source": [
    "epoched = epoch_all(datasets)\n",
    "l1a_epochs, l1a_labels = epoch_dataset(leftout)"
   ],
   "metadata": {
    "collapsed": false,
    "pycharm": {
     "name": "#%%\n"
    }
   }
  },
  {
   "cell_type": "code",
   "execution_count": null,
   "outputs": [],
   "source": [
    "rocket = RocketClassifier(n_jobs=-1)\n",
    "metrics = np.empty([len(datasets),3])\n",
    "i = 0\n",
    "for trainset, trainlabs in epoched:\n",
    "    rocket.fit(trainset, trainlabs)\n",
    "    ypred = rocket.predict(l1a_epochs)\n",
    "    #print(classification_report(ypred, l1a_labels))\n",
    "    acc = accuracy_score(ypred, l1a_labels)\n",
    "    f1 = f1_score(ypred, l1a_labels, average='weighted')\n",
    "    precision = precision_score(ypred, l1a_labels, average='weighted')\n",
    "    x = np.array([acc, f1, precision])\n",
    "    metrics[i] = x\n",
    "    i += 1"
   ],
   "metadata": {
    "collapsed": false,
    "pycharm": {
     "name": "#%%\n"
    }
   }
  }
 ],
 "metadata": {
  "kernelspec": {
   "display_name": "Python 3",
   "language": "python",
   "name": "python3"
  },
  "language_info": {
   "codemirror_mode": {
    "name": "ipython",
    "version": 2
   },
   "file_extension": ".py",
   "mimetype": "text/x-python",
   "name": "python",
   "nbconvert_exporter": "python",
   "pygments_lexer": "ipython2",
   "version": "2.7.6"
  }
 },
 "nbformat": 4,
 "nbformat_minor": 0
}