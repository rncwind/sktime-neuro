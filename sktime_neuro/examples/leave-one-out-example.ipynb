{
 "cells": [
  {
   "cell_type": "code",
   "execution_count": 25,
   "metadata": {
    "collapsed": true,
    "pycharm": {
     "name": "#%%\n"
    }
   },
   "outputs": [
    {
     "name": "stdout",
     "output_type": "stream",
     "text": [
      "The autoreload extension is already loaded. To reload it, use:\n",
      "  %reload_ext autoreload\n"
     ]
    }
   ],
   "source": [
    "if 'autoreload' not in get_ipython().extension_manager.loaded:\n",
    "    %load_ext autoreload\n",
    "%autoreload 2\n",
    "import numpy as np\n",
    "import datetime\n",
    "from sktime_neuro.utils.pickle_wrapper import deserialise_if_exists, serialise_if_doesnt_exist\n",
    "from sktime_neuro.datasets.matching_pennies_util import *\n",
    "from sktime_neuro.transformations.multivariate_detrender import ColumnDetrender\n",
    "from sktime_neuro.transformations.series_to_panel.eeg_epoching import epoch\n",
    "from sktime_neuro.utils.mne_processing import create_annotation\n",
    "from sktime.classification.kernel_based import RocketClassifier\n",
    "from sklearn.metrics import *"
   ]
  },
  {
   "cell_type": "code",
   "execution_count": 4,
   "outputs": [],
   "source": [
    "def detrend(data, n_jobs=1):\n",
    "    dt = ColumnDetrender(data)\n",
    "    return dt.detrend(n_jobs=n_jobs)"
   ],
   "metadata": {
    "collapsed": false,
    "pycharm": {
     "name": "#%%\n"
    }
   }
  },
  {
   "cell_type": "code",
   "execution_count": 5,
   "outputs": [],
   "source": [
    "def process(sid):\n",
    "    raw = get_raw(sid)\n",
    "    annot = create_annotation(raw)\n",
    "    data = raw.get_data().transpose()\n",
    "    detrended = detrend(data, -1)\n",
    "    sf = raw.info['sfreq']\n",
    "    return (annot, detrended, sf)\n",
    "\n",
    "def leaveOneOut(leaveOut: int):\n",
    "    leftout = None\n",
    "    datasets = []\n",
    "    for i in range(5,12):\n",
    "        if i == leaveOut:\n",
    "            leftout = process(i)\n",
    "        else:\n",
    "            datasets.append(process(i))\n",
    "    return datasets, leftout"
   ],
   "metadata": {
    "collapsed": false,
    "pycharm": {
     "name": "#%%\n"
    }
   }
  },
  {
   "cell_type": "code",
   "execution_count": 6,
   "outputs": [
    {
     "name": "stderr",
     "output_type": "stream",
     "text": [
      "/home/patchouli/programming/foss/sktime-neuro/sktime_neuro/datasets/matching_pennies_util.py:10: RuntimeWarning: Did not find any eeg.json associated with sub-05_task-matchingpennies.\n",
      "\n",
      "The search_str was \"/home/patchouli/programming/foss/sktime-neuro/cache/eeg_matchingpennies/sub-05/**/eeg/sub-05*eeg.json\"\n",
      "  return read_raw_bids(bids_path=bidspath, verbose=False)\n",
      "[Parallel(n_jobs=-1)]: Using backend LokyBackend with 16 concurrent workers.\n",
      "[Parallel(n_jobs=-1)]: Done   3 out of  10 | elapsed:   21.7s remaining:   50.5s\n",
      "[Parallel(n_jobs=-1)]: Done   5 out of  10 | elapsed:   21.9s remaining:   21.9s\n",
      "[Parallel(n_jobs=-1)]: Done   7 out of  10 | elapsed:   26.5s remaining:   11.4s\n",
      "[Parallel(n_jobs=-1)]: Done  10 out of  10 | elapsed:   27.3s finished\n",
      "/home/patchouli/programming/foss/sktime-neuro/sktime_neuro/datasets/matching_pennies_util.py:10: RuntimeWarning: Did not find any eeg.json associated with sub-06_task-matchingpennies.\n",
      "\n",
      "The search_str was \"/home/patchouli/programming/foss/sktime-neuro/cache/eeg_matchingpennies/sub-06/**/eeg/sub-06*eeg.json\"\n",
      "  return read_raw_bids(bids_path=bidspath, verbose=False)\n",
      "[Parallel(n_jobs=-1)]: Using backend LokyBackend with 16 concurrent workers.\n",
      "[Parallel(n_jobs=-1)]: Done   3 out of  10 | elapsed:   20.0s remaining:   46.7s\n",
      "[Parallel(n_jobs=-1)]: Done   5 out of  10 | elapsed:   20.3s remaining:   20.3s\n",
      "[Parallel(n_jobs=-1)]: Done   7 out of  10 | elapsed:   22.5s remaining:    9.7s\n",
      "[Parallel(n_jobs=-1)]: Done  10 out of  10 | elapsed:   24.9s finished\n",
      "/home/patchouli/programming/foss/sktime-neuro/sktime_neuro/datasets/matching_pennies_util.py:10: RuntimeWarning: Did not find any eeg.json associated with sub-07_task-matchingpennies.\n",
      "\n",
      "The search_str was \"/home/patchouli/programming/foss/sktime-neuro/cache/eeg_matchingpennies/sub-07/**/eeg/sub-07*eeg.json\"\n",
      "  return read_raw_bids(bids_path=bidspath, verbose=False)\n",
      "[Parallel(n_jobs=-1)]: Using backend LokyBackend with 16 concurrent workers.\n",
      "[Parallel(n_jobs=-1)]: Done   3 out of  10 | elapsed:   18.3s remaining:   42.7s\n",
      "[Parallel(n_jobs=-1)]: Done   5 out of  10 | elapsed:   18.8s remaining:   18.8s\n",
      "[Parallel(n_jobs=-1)]: Done   7 out of  10 | elapsed:   22.4s remaining:    9.6s\n",
      "[Parallel(n_jobs=-1)]: Done  10 out of  10 | elapsed:   23.5s finished\n",
      "/home/patchouli/programming/foss/sktime-neuro/sktime_neuro/datasets/matching_pennies_util.py:10: RuntimeWarning: Did not find any eeg.json associated with sub-08_task-matchingpennies.\n",
      "\n",
      "The search_str was \"/home/patchouli/programming/foss/sktime-neuro/cache/eeg_matchingpennies/sub-08/**/eeg/sub-08*eeg.json\"\n",
      "  return read_raw_bids(bids_path=bidspath, verbose=False)\n",
      "[Parallel(n_jobs=-1)]: Using backend LokyBackend with 16 concurrent workers.\n",
      "[Parallel(n_jobs=-1)]: Done   3 out of  10 | elapsed:   18.3s remaining:   42.7s\n",
      "[Parallel(n_jobs=-1)]: Done   5 out of  10 | elapsed:   19.0s remaining:   19.0s\n",
      "[Parallel(n_jobs=-1)]: Done   7 out of  10 | elapsed:   22.5s remaining:    9.7s\n",
      "[Parallel(n_jobs=-1)]: Done  10 out of  10 | elapsed:   23.5s finished\n",
      "/home/patchouli/programming/foss/sktime-neuro/sktime_neuro/datasets/matching_pennies_util.py:10: RuntimeWarning: Did not find any eeg.json associated with sub-09_task-matchingpennies.\n",
      "\n",
      "The search_str was \"/home/patchouli/programming/foss/sktime-neuro/cache/eeg_matchingpennies/sub-09/**/eeg/sub-09*eeg.json\"\n",
      "  return read_raw_bids(bids_path=bidspath, verbose=False)\n",
      "[Parallel(n_jobs=-1)]: Using backend LokyBackend with 16 concurrent workers.\n",
      "[Parallel(n_jobs=-1)]: Done   3 out of  10 | elapsed:   18.0s remaining:   42.0s\n",
      "[Parallel(n_jobs=-1)]: Done   5 out of  10 | elapsed:   18.7s remaining:   18.7s\n",
      "[Parallel(n_jobs=-1)]: Done   7 out of  10 | elapsed:   22.4s remaining:    9.6s\n",
      "[Parallel(n_jobs=-1)]: Done  10 out of  10 | elapsed:   23.1s finished\n",
      "/home/patchouli/programming/foss/sktime-neuro/sktime_neuro/datasets/matching_pennies_util.py:10: RuntimeWarning: Did not find any eeg.json associated with sub-10_task-matchingpennies.\n",
      "\n",
      "The search_str was \"/home/patchouli/programming/foss/sktime-neuro/cache/eeg_matchingpennies/sub-10/**/eeg/sub-10*eeg.json\"\n",
      "  return read_raw_bids(bids_path=bidspath, verbose=False)\n",
      "[Parallel(n_jobs=-1)]: Using backend LokyBackend with 16 concurrent workers.\n",
      "[Parallel(n_jobs=-1)]: Done   3 out of  10 | elapsed:   17.7s remaining:   41.4s\n",
      "[Parallel(n_jobs=-1)]: Done   5 out of  10 | elapsed:   18.5s remaining:   18.5s\n",
      "[Parallel(n_jobs=-1)]: Done   7 out of  10 | elapsed:   23.0s remaining:    9.9s\n",
      "[Parallel(n_jobs=-1)]: Done  10 out of  10 | elapsed:   23.5s finished\n",
      "/home/patchouli/programming/foss/sktime-neuro/sktime_neuro/datasets/matching_pennies_util.py:10: RuntimeWarning: Did not find any eeg.json associated with sub-11_task-matchingpennies.\n",
      "\n",
      "The search_str was \"/home/patchouli/programming/foss/sktime-neuro/cache/eeg_matchingpennies/sub-11/**/eeg/sub-11*eeg.json\"\n",
      "  return read_raw_bids(bids_path=bidspath, verbose=False)\n",
      "[Parallel(n_jobs=-1)]: Using backend LokyBackend with 16 concurrent workers.\n",
      "[Parallel(n_jobs=-1)]: Done   3 out of  10 | elapsed:   18.2s remaining:   42.5s\n",
      "[Parallel(n_jobs=-1)]: Done   5 out of  10 | elapsed:   18.7s remaining:   18.7s\n",
      "[Parallel(n_jobs=-1)]: Done   7 out of  10 | elapsed:   22.3s remaining:    9.6s\n",
      "[Parallel(n_jobs=-1)]: Done  10 out of  10 | elapsed:   22.9s finished\n"
     ]
    }
   ],
   "source": [
    "datasets, leftout = leaveOneOut(5)"
   ],
   "metadata": {
    "collapsed": false,
    "pycharm": {
     "name": "#%%\n"
    }
   }
  },
  {
   "cell_type": "code",
   "execution_count": 7,
   "outputs": [],
   "source": [
    "onsetlabels = [\"raised-right/match-true\", \"raised-right/match-false\",\n",
    "               \"raised-left/match-true\", \"raised-left/match-false\"]\n",
    "\n",
    "def epoch_dataset(dataset):\n",
    "    epochs, labels = epoch(dataset[1], dataset[0], onsetlabels, [-0.5, 0.5], sfreq=dataset[2])\n",
    "    return (epochs, labels)\n",
    "\n",
    "def epoch_all(datasets):\n",
    "    epoched = []\n",
    "    for dataset in datasets:\n",
    "        epoched.append(epoch_dataset(dataset))\n",
    "\n",
    "    return epoched"
   ],
   "metadata": {
    "collapsed": false,
    "pycharm": {
     "name": "#%%\n"
    }
   }
  },
  {
   "cell_type": "code",
   "execution_count": 8,
   "outputs": [],
   "source": [
    "epoched = epoch_all(datasets)\n",
    "l1a_epochs, l1a_labels = epoch_dataset(leftout)"
   ],
   "metadata": {
    "collapsed": false,
    "pycharm": {
     "name": "#%%\n"
    }
   }
  },
  {
   "cell_type": "code",
   "execution_count": 27,
   "outputs": [
    {
     "name": "stdout",
     "output_type": "stream",
     "text": [
      "Fitting took 0:01:32.840222\n",
      "Prediction took 0:01:31.116539\n",
      "[0.24666667 0.31106529 0.60818182]\n",
      "[[2.46666667e-01 3.11065292e-01 6.08181818e-01]\n",
      " [9.72305369e-05 4.94269039e-05 1.01680893e-05]\n",
      " [2.31211362e-05 9.29802295e-06 1.64276672e-05]\n",
      " [9.83305369e-05 4.95268951e-05 1.06680935e-05]\n",
      " [2.83211377e-05 1.02980194e-05 1.49276741e-05]\n",
      " [9.96305369e-05 4.94268864e-05 1.04680976e-05]]\n"
     ]
    },
    {
     "ename": "KeyboardInterrupt",
     "evalue": "",
     "output_type": "error",
     "traceback": [
      "\u001B[0;31m---------------------------------------------------------------------------\u001B[0m",
      "\u001B[0;31mKeyboardInterrupt\u001B[0m                         Traceback (most recent call last)",
      "Input \u001B[0;32mIn [27]\u001B[0m, in \u001B[0;36m<cell line: 5>\u001B[0;34m()\u001B[0m\n\u001B[1;32m      5\u001B[0m \u001B[38;5;28;01mfor\u001B[39;00m trainset, trainlabs \u001B[38;5;129;01min\u001B[39;00m epoched:\n\u001B[1;32m      6\u001B[0m     fittime \u001B[38;5;241m=\u001B[39m datetime\u001B[38;5;241m.\u001B[39mdatetime\u001B[38;5;241m.\u001B[39mnow()\n\u001B[0;32m----> 7\u001B[0m     \u001B[43mrocket\u001B[49m\u001B[38;5;241;43m.\u001B[39;49m\u001B[43mfit\u001B[49m\u001B[43m(\u001B[49m\u001B[43mtrainset\u001B[49m\u001B[43m,\u001B[49m\u001B[43m \u001B[49m\u001B[43mtrainlabs\u001B[49m\u001B[43m)\u001B[49m\n\u001B[1;32m      8\u001B[0m     \u001B[38;5;28mprint\u001B[39m(\u001B[38;5;124mf\u001B[39m\u001B[38;5;124m\"\u001B[39m\u001B[38;5;124mFitting took \u001B[39m\u001B[38;5;132;01m{\u001B[39;00mdatetime\u001B[38;5;241m.\u001B[39mdatetime\u001B[38;5;241m.\u001B[39mnow() \u001B[38;5;241m-\u001B[39m fittime\u001B[38;5;132;01m}\u001B[39;00m\u001B[38;5;124m\"\u001B[39m)\n\u001B[1;32m      9\u001B[0m     predtime \u001B[38;5;241m=\u001B[39m datetime\u001B[38;5;241m.\u001B[39mdatetime\u001B[38;5;241m.\u001B[39mnow()\n",
      "File \u001B[0;32m~/.local/share/virtualenvs/sktime-neuro-EViz1zTZ/lib/python3.8/site-packages/sktime/classification/base.py:171\u001B[0m, in \u001B[0;36mBaseClassifier.fit\u001B[0;34m(self, X, y)\u001B[0m\n\u001B[1;32m    169\u001B[0m \u001B[38;5;28;01mfor\u001B[39;00m index, class_val \u001B[38;5;129;01min\u001B[39;00m \u001B[38;5;28menumerate\u001B[39m(\u001B[38;5;28mself\u001B[39m\u001B[38;5;241m.\u001B[39mclasses_):\n\u001B[1;32m    170\u001B[0m     \u001B[38;5;28mself\u001B[39m\u001B[38;5;241m.\u001B[39m_class_dictionary[class_val] \u001B[38;5;241m=\u001B[39m index\n\u001B[0;32m--> 171\u001B[0m \u001B[38;5;28;43mself\u001B[39;49m\u001B[38;5;241;43m.\u001B[39;49m\u001B[43m_fit\u001B[49m\u001B[43m(\u001B[49m\u001B[43mX\u001B[49m\u001B[43m,\u001B[49m\u001B[43m \u001B[49m\u001B[43my\u001B[49m\u001B[43m)\u001B[49m\n\u001B[1;32m    172\u001B[0m \u001B[38;5;28mself\u001B[39m\u001B[38;5;241m.\u001B[39mfit_time_ \u001B[38;5;241m=\u001B[39m \u001B[38;5;28mint\u001B[39m(\u001B[38;5;28mround\u001B[39m(time\u001B[38;5;241m.\u001B[39mtime() \u001B[38;5;241m*\u001B[39m \u001B[38;5;241m1000\u001B[39m)) \u001B[38;5;241m-\u001B[39m start\n\u001B[1;32m    173\u001B[0m \u001B[38;5;66;03m# this should happen last\u001B[39;00m\n",
      "File \u001B[0;32m~/.local/share/virtualenvs/sktime-neuro-EViz1zTZ/lib/python3.8/site-packages/sktime/classification/kernel_based/_rocket_classifier.py:178\u001B[0m, in \u001B[0;36mRocketClassifier._fit\u001B[0;34m(self, X, y)\u001B[0m\n\u001B[1;32m    171\u001B[0m     \u001B[38;5;28;01mraise\u001B[39;00m \u001B[38;5;167;01mValueError\u001B[39;00m(\u001B[38;5;124mf\u001B[39m\u001B[38;5;124m\"\u001B[39m\u001B[38;5;124mInvalid Rocket transformer: \u001B[39m\u001B[38;5;132;01m{\u001B[39;00m\u001B[38;5;28mself\u001B[39m\u001B[38;5;241m.\u001B[39mrocket_transform\u001B[38;5;132;01m}\u001B[39;00m\u001B[38;5;124m\"\u001B[39m)\n\u001B[1;32m    173\u001B[0m \u001B[38;5;28mself\u001B[39m\u001B[38;5;241m.\u001B[39m_pipeline \u001B[38;5;241m=\u001B[39m rocket_pipeline \u001B[38;5;241m=\u001B[39m make_pipeline(\n\u001B[1;32m    174\u001B[0m     rocket,\n\u001B[1;32m    175\u001B[0m     StandardScaler(with_mean\u001B[38;5;241m=\u001B[39m\u001B[38;5;28;01mFalse\u001B[39;00m),\n\u001B[1;32m    176\u001B[0m     RidgeClassifierCV(alphas\u001B[38;5;241m=\u001B[39mnp\u001B[38;5;241m.\u001B[39mlogspace(\u001B[38;5;241m-\u001B[39m\u001B[38;5;241m3\u001B[39m, \u001B[38;5;241m3\u001B[39m, \u001B[38;5;241m10\u001B[39m)),\n\u001B[1;32m    177\u001B[0m )\n\u001B[0;32m--> 178\u001B[0m \u001B[43mrocket_pipeline\u001B[49m\u001B[38;5;241;43m.\u001B[39;49m\u001B[43mfit\u001B[49m\u001B[43m(\u001B[49m\u001B[43mX\u001B[49m\u001B[43m,\u001B[49m\u001B[43m \u001B[49m\u001B[43my\u001B[49m\u001B[43m)\u001B[49m\n\u001B[1;32m    180\u001B[0m \u001B[38;5;28;01mreturn\u001B[39;00m \u001B[38;5;28mself\u001B[39m\n",
      "File \u001B[0;32m~/.local/share/virtualenvs/sktime-neuro-EViz1zTZ/lib/python3.8/site-packages/sklearn/pipeline.py:390\u001B[0m, in \u001B[0;36mPipeline.fit\u001B[0;34m(self, X, y, **fit_params)\u001B[0m\n\u001B[1;32m    364\u001B[0m \u001B[38;5;124;03m\"\"\"Fit the model.\u001B[39;00m\n\u001B[1;32m    365\u001B[0m \n\u001B[1;32m    366\u001B[0m \u001B[38;5;124;03mFit all the transformers one after the other and transform the\u001B[39;00m\n\u001B[0;32m   (...)\u001B[0m\n\u001B[1;32m    387\u001B[0m \u001B[38;5;124;03m    Pipeline with fitted steps.\u001B[39;00m\n\u001B[1;32m    388\u001B[0m \u001B[38;5;124;03m\"\"\"\u001B[39;00m\n\u001B[1;32m    389\u001B[0m fit_params_steps \u001B[38;5;241m=\u001B[39m \u001B[38;5;28mself\u001B[39m\u001B[38;5;241m.\u001B[39m_check_fit_params(\u001B[38;5;241m*\u001B[39m\u001B[38;5;241m*\u001B[39mfit_params)\n\u001B[0;32m--> 390\u001B[0m Xt \u001B[38;5;241m=\u001B[39m \u001B[38;5;28;43mself\u001B[39;49m\u001B[38;5;241;43m.\u001B[39;49m\u001B[43m_fit\u001B[49m\u001B[43m(\u001B[49m\u001B[43mX\u001B[49m\u001B[43m,\u001B[49m\u001B[43m \u001B[49m\u001B[43my\u001B[49m\u001B[43m,\u001B[49m\u001B[43m \u001B[49m\u001B[38;5;241;43m*\u001B[39;49m\u001B[38;5;241;43m*\u001B[39;49m\u001B[43mfit_params_steps\u001B[49m\u001B[43m)\u001B[49m\n\u001B[1;32m    391\u001B[0m \u001B[38;5;28;01mwith\u001B[39;00m _print_elapsed_time(\u001B[38;5;124m\"\u001B[39m\u001B[38;5;124mPipeline\u001B[39m\u001B[38;5;124m\"\u001B[39m, \u001B[38;5;28mself\u001B[39m\u001B[38;5;241m.\u001B[39m_log_message(\u001B[38;5;28mlen\u001B[39m(\u001B[38;5;28mself\u001B[39m\u001B[38;5;241m.\u001B[39msteps) \u001B[38;5;241m-\u001B[39m \u001B[38;5;241m1\u001B[39m)):\n\u001B[1;32m    392\u001B[0m     \u001B[38;5;28;01mif\u001B[39;00m \u001B[38;5;28mself\u001B[39m\u001B[38;5;241m.\u001B[39m_final_estimator \u001B[38;5;241m!=\u001B[39m \u001B[38;5;124m\"\u001B[39m\u001B[38;5;124mpassthrough\u001B[39m\u001B[38;5;124m\"\u001B[39m:\n",
      "File \u001B[0;32m~/.local/share/virtualenvs/sktime-neuro-EViz1zTZ/lib/python3.8/site-packages/sklearn/pipeline.py:348\u001B[0m, in \u001B[0;36mPipeline._fit\u001B[0;34m(self, X, y, **fit_params_steps)\u001B[0m\n\u001B[1;32m    346\u001B[0m     cloned_transformer \u001B[38;5;241m=\u001B[39m clone(transformer)\n\u001B[1;32m    347\u001B[0m \u001B[38;5;66;03m# Fit or load from cache the current transformer\u001B[39;00m\n\u001B[0;32m--> 348\u001B[0m X, fitted_transformer \u001B[38;5;241m=\u001B[39m \u001B[43mfit_transform_one_cached\u001B[49m\u001B[43m(\u001B[49m\n\u001B[1;32m    349\u001B[0m \u001B[43m    \u001B[49m\u001B[43mcloned_transformer\u001B[49m\u001B[43m,\u001B[49m\n\u001B[1;32m    350\u001B[0m \u001B[43m    \u001B[49m\u001B[43mX\u001B[49m\u001B[43m,\u001B[49m\n\u001B[1;32m    351\u001B[0m \u001B[43m    \u001B[49m\u001B[43my\u001B[49m\u001B[43m,\u001B[49m\n\u001B[1;32m    352\u001B[0m \u001B[43m    \u001B[49m\u001B[38;5;28;43;01mNone\u001B[39;49;00m\u001B[43m,\u001B[49m\n\u001B[1;32m    353\u001B[0m \u001B[43m    \u001B[49m\u001B[43mmessage_clsname\u001B[49m\u001B[38;5;241;43m=\u001B[39;49m\u001B[38;5;124;43m\"\u001B[39;49m\u001B[38;5;124;43mPipeline\u001B[39;49m\u001B[38;5;124;43m\"\u001B[39;49m\u001B[43m,\u001B[49m\n\u001B[1;32m    354\u001B[0m \u001B[43m    \u001B[49m\u001B[43mmessage\u001B[49m\u001B[38;5;241;43m=\u001B[39;49m\u001B[38;5;28;43mself\u001B[39;49m\u001B[38;5;241;43m.\u001B[39;49m\u001B[43m_log_message\u001B[49m\u001B[43m(\u001B[49m\u001B[43mstep_idx\u001B[49m\u001B[43m)\u001B[49m\u001B[43m,\u001B[49m\n\u001B[1;32m    355\u001B[0m \u001B[43m    \u001B[49m\u001B[38;5;241;43m*\u001B[39;49m\u001B[38;5;241;43m*\u001B[39;49m\u001B[43mfit_params_steps\u001B[49m\u001B[43m[\u001B[49m\u001B[43mname\u001B[49m\u001B[43m]\u001B[49m\u001B[43m,\u001B[49m\n\u001B[1;32m    356\u001B[0m \u001B[43m\u001B[49m\u001B[43m)\u001B[49m\n\u001B[1;32m    357\u001B[0m \u001B[38;5;66;03m# Replace the transformer of the step with the fitted\u001B[39;00m\n\u001B[1;32m    358\u001B[0m \u001B[38;5;66;03m# transformer. This is necessary when loading the transformer\u001B[39;00m\n\u001B[1;32m    359\u001B[0m \u001B[38;5;66;03m# from the cache.\u001B[39;00m\n\u001B[1;32m    360\u001B[0m \u001B[38;5;28mself\u001B[39m\u001B[38;5;241m.\u001B[39msteps[step_idx] \u001B[38;5;241m=\u001B[39m (name, fitted_transformer)\n",
      "File \u001B[0;32m~/.local/share/virtualenvs/sktime-neuro-EViz1zTZ/lib/python3.8/site-packages/joblib/memory.py:349\u001B[0m, in \u001B[0;36mNotMemorizedFunc.__call__\u001B[0;34m(self, *args, **kwargs)\u001B[0m\n\u001B[1;32m    348\u001B[0m \u001B[38;5;28;01mdef\u001B[39;00m \u001B[38;5;21m__call__\u001B[39m(\u001B[38;5;28mself\u001B[39m, \u001B[38;5;241m*\u001B[39margs, \u001B[38;5;241m*\u001B[39m\u001B[38;5;241m*\u001B[39mkwargs):\n\u001B[0;32m--> 349\u001B[0m     \u001B[38;5;28;01mreturn\u001B[39;00m \u001B[38;5;28;43mself\u001B[39;49m\u001B[38;5;241;43m.\u001B[39;49m\u001B[43mfunc\u001B[49m\u001B[43m(\u001B[49m\u001B[38;5;241;43m*\u001B[39;49m\u001B[43margs\u001B[49m\u001B[43m,\u001B[49m\u001B[43m \u001B[49m\u001B[38;5;241;43m*\u001B[39;49m\u001B[38;5;241;43m*\u001B[39;49m\u001B[43mkwargs\u001B[49m\u001B[43m)\u001B[49m\n",
      "File \u001B[0;32m~/.local/share/virtualenvs/sktime-neuro-EViz1zTZ/lib/python3.8/site-packages/sklearn/pipeline.py:893\u001B[0m, in \u001B[0;36m_fit_transform_one\u001B[0;34m(transformer, X, y, weight, message_clsname, message, **fit_params)\u001B[0m\n\u001B[1;32m    891\u001B[0m \u001B[38;5;28;01mwith\u001B[39;00m _print_elapsed_time(message_clsname, message):\n\u001B[1;32m    892\u001B[0m     \u001B[38;5;28;01mif\u001B[39;00m \u001B[38;5;28mhasattr\u001B[39m(transformer, \u001B[38;5;124m\"\u001B[39m\u001B[38;5;124mfit_transform\u001B[39m\u001B[38;5;124m\"\u001B[39m):\n\u001B[0;32m--> 893\u001B[0m         res \u001B[38;5;241m=\u001B[39m \u001B[43mtransformer\u001B[49m\u001B[38;5;241;43m.\u001B[39;49m\u001B[43mfit_transform\u001B[49m\u001B[43m(\u001B[49m\u001B[43mX\u001B[49m\u001B[43m,\u001B[49m\u001B[43m \u001B[49m\u001B[43my\u001B[49m\u001B[43m,\u001B[49m\u001B[43m \u001B[49m\u001B[38;5;241;43m*\u001B[39;49m\u001B[38;5;241;43m*\u001B[39;49m\u001B[43mfit_params\u001B[49m\u001B[43m)\u001B[49m\n\u001B[1;32m    894\u001B[0m     \u001B[38;5;28;01melse\u001B[39;00m:\n\u001B[1;32m    895\u001B[0m         res \u001B[38;5;241m=\u001B[39m transformer\u001B[38;5;241m.\u001B[39mfit(X, y, \u001B[38;5;241m*\u001B[39m\u001B[38;5;241m*\u001B[39mfit_params)\u001B[38;5;241m.\u001B[39mtransform(X)\n",
      "File \u001B[0;32m~/.local/share/virtualenvs/sktime-neuro-EViz1zTZ/lib/python3.8/site-packages/sktime/transformations/base.py:434\u001B[0m, in \u001B[0;36mBaseTransformer.fit_transform\u001B[0;34m(self, X, y)\u001B[0m\n\u001B[1;32m    380\u001B[0m \u001B[38;5;124;03m\"\"\"Fit to data, then transform it.\u001B[39;00m\n\u001B[1;32m    381\u001B[0m \n\u001B[1;32m    382\u001B[0m \u001B[38;5;124;03mFits the transformer to X and y and returns a transformed version of X.\u001B[39;00m\n\u001B[0;32m   (...)\u001B[0m\n\u001B[1;32m    430\u001B[0m \u001B[38;5;124;03m        Example: i-th instance of the output is the i-th window running over `X`\u001B[39;00m\n\u001B[1;32m    431\u001B[0m \u001B[38;5;124;03m\"\"\"\u001B[39;00m\n\u001B[1;32m    432\u001B[0m \u001B[38;5;66;03m# Non-optimized default implementation; override when a better\u001B[39;00m\n\u001B[1;32m    433\u001B[0m \u001B[38;5;66;03m# method is possible for a given algorithm.\u001B[39;00m\n\u001B[0;32m--> 434\u001B[0m \u001B[38;5;28;01mreturn\u001B[39;00m \u001B[38;5;28;43mself\u001B[39;49m\u001B[38;5;241;43m.\u001B[39;49m\u001B[43mfit\u001B[49m\u001B[43m(\u001B[49m\u001B[43mX\u001B[49m\u001B[43m,\u001B[49m\u001B[43m \u001B[49m\u001B[43my\u001B[49m\u001B[43m)\u001B[49m\u001B[38;5;241;43m.\u001B[39;49m\u001B[43mtransform\u001B[49m\u001B[43m(\u001B[49m\u001B[43mX\u001B[49m\u001B[43m,\u001B[49m\u001B[43m \u001B[49m\u001B[43my\u001B[49m\u001B[43m)\u001B[49m\n",
      "File \u001B[0;32m~/.local/share/virtualenvs/sktime-neuro-EViz1zTZ/lib/python3.8/site-packages/sktime/transformations/base.py:369\u001B[0m, in \u001B[0;36mBaseTransformer.transform\u001B[0;34m(self, X, y)\u001B[0m\n\u001B[1;32m    366\u001B[0m X_inner, y_inner, metadata \u001B[38;5;241m=\u001B[39m \u001B[38;5;28mself\u001B[39m\u001B[38;5;241m.\u001B[39m_check_X_y(X\u001B[38;5;241m=\u001B[39mX, y\u001B[38;5;241m=\u001B[39my, return_metadata\u001B[38;5;241m=\u001B[39m\u001B[38;5;28;01mTrue\u001B[39;00m)\n\u001B[1;32m    368\u001B[0m \u001B[38;5;28;01mif\u001B[39;00m \u001B[38;5;129;01mnot\u001B[39;00m \u001B[38;5;28misinstance\u001B[39m(X_inner, VectorizedDF):\n\u001B[0;32m--> 369\u001B[0m     Xt \u001B[38;5;241m=\u001B[39m \u001B[38;5;28;43mself\u001B[39;49m\u001B[38;5;241;43m.\u001B[39;49m\u001B[43m_transform\u001B[49m\u001B[43m(\u001B[49m\u001B[43mX\u001B[49m\u001B[38;5;241;43m=\u001B[39;49m\u001B[43mX_inner\u001B[49m\u001B[43m,\u001B[49m\u001B[43m \u001B[49m\u001B[43my\u001B[49m\u001B[38;5;241;43m=\u001B[39;49m\u001B[43my_inner\u001B[49m\u001B[43m)\u001B[49m\n\u001B[1;32m    370\u001B[0m \u001B[38;5;28;01melse\u001B[39;00m:\n\u001B[1;32m    371\u001B[0m     \u001B[38;5;66;03m# otherwise we call the vectorized version of predict\u001B[39;00m\n\u001B[1;32m    372\u001B[0m     Xt \u001B[38;5;241m=\u001B[39m \u001B[38;5;28mself\u001B[39m\u001B[38;5;241m.\u001B[39m_vectorize(\u001B[38;5;124m\"\u001B[39m\u001B[38;5;124mtransform\u001B[39m\u001B[38;5;124m\"\u001B[39m, X\u001B[38;5;241m=\u001B[39mX_inner, y\u001B[38;5;241m=\u001B[39my_inner)\n",
      "File \u001B[0;32m~/.local/share/virtualenvs/sktime-neuro-EViz1zTZ/lib/python3.8/site-packages/sktime/transformations/panel/rocket/_rocket.py:106\u001B[0m, in \u001B[0;36mRocket._transform\u001B[0;34m(self, X, y)\u001B[0m\n\u001B[1;32m    104\u001B[0m     n_jobs \u001B[38;5;241m=\u001B[39m \u001B[38;5;28mself\u001B[39m\u001B[38;5;241m.\u001B[39mn_jobs\n\u001B[1;32m    105\u001B[0m set_num_threads(n_jobs)\n\u001B[0;32m--> 106\u001B[0m t \u001B[38;5;241m=\u001B[39m pd\u001B[38;5;241m.\u001B[39mDataFrame(\u001B[43m_apply_kernels\u001B[49m\u001B[43m(\u001B[49m\u001B[43mX\u001B[49m\u001B[38;5;241;43m.\u001B[39;49m\u001B[43mastype\u001B[49m\u001B[43m(\u001B[49m\u001B[43mnp\u001B[49m\u001B[38;5;241;43m.\u001B[39;49m\u001B[43mfloat32\u001B[49m\u001B[43m)\u001B[49m\u001B[43m,\u001B[49m\u001B[43m \u001B[49m\u001B[38;5;28;43mself\u001B[39;49m\u001B[38;5;241;43m.\u001B[39;49m\u001B[43mkernels\u001B[49m\u001B[43m)\u001B[49m)\n\u001B[1;32m    107\u001B[0m set_num_threads(prev_threads)\n\u001B[1;32m    108\u001B[0m \u001B[38;5;28;01mreturn\u001B[39;00m t\n",
      "File \u001B[0;32m~/.local/share/virtualenvs/sktime-neuro-EViz1zTZ/lib/python3.8/site-packages/numba/core/serialize.py:29\u001B[0m, in \u001B[0;36m_numba_unpickle\u001B[0;34m(address, bytedata, hashed)\u001B[0m\n\u001B[1;32m     25\u001B[0m \u001B[38;5;66;03m# Keep unpickled object via `numba_unpickle` alive.\u001B[39;00m\n\u001B[1;32m     26\u001B[0m _unpickled_memo \u001B[38;5;241m=\u001B[39m {}\n\u001B[0;32m---> 29\u001B[0m \u001B[38;5;28;01mdef\u001B[39;00m \u001B[38;5;21m_numba_unpickle\u001B[39m(address, bytedata, hashed):\n\u001B[1;32m     30\u001B[0m     \u001B[38;5;124;03m\"\"\"Used by `numba_unpickle` from _helperlib.c\u001B[39;00m\n\u001B[1;32m     31\u001B[0m \n\u001B[1;32m     32\u001B[0m \u001B[38;5;124;03m    Parameters\u001B[39;00m\n\u001B[0;32m   (...)\u001B[0m\n\u001B[1;32m     41\u001B[0m \u001B[38;5;124;03m        unpickled object\u001B[39;00m\n\u001B[1;32m     42\u001B[0m \u001B[38;5;124;03m    \"\"\"\u001B[39;00m\n\u001B[1;32m     43\u001B[0m     key \u001B[38;5;241m=\u001B[39m (address, hashed)\n",
      "\u001B[0;31mKeyboardInterrupt\u001B[0m: "
     ]
    }
   ],
   "source": [
    "rocket = RocketClassifier(n_jobs=-1)\n",
    "metrics = np.empty([len(datasets),3])\n",
    "i = 0\n",
    "startime = datetime.datetime.now()\n",
    "for trainset, trainlabs in epoched:\n",
    "    fittime = datetime.datetime.now()\n",
    "    rocket.fit(trainset, trainlabs)\n",
    "    print(f\"Fitting took {datetime.datetime.now() - fittime}\")\n",
    "    predtime = datetime.datetime.now()\n",
    "    ypred = rocket.predict(l1a_epochs)\n",
    "    print(f\"Prediction took {datetime.datetime.now() - predtime}\")\n",
    "    #print(classification_report(ypred, l1a_labels))\n",
    "    acc = accuracy_score(ypred, l1a_labels)\n",
    "    f1 = f1_score(ypred, l1a_labels, average='weighted')\n",
    "    precision = precision_score(ypred, l1a_labels, average='weighted')\n",
    "    x = np.array([acc, f1, precision])\n",
    "    metrics[i] = x\n",
    "    i += 1\n",
    "endtime = datetime.datetime.now()\n",
    "print(f\"Total test took {endtime - startime}\")"
   ],
   "metadata": {
    "collapsed": false,
    "pycharm": {
     "name": "#%%\n"
    }
   }
  }
 ],
 "metadata": {
  "kernelspec": {
   "display_name": "Python 3",
   "language": "python",
   "name": "python3"
  },
  "language_info": {
   "codemirror_mode": {
    "name": "ipython",
    "version": 2
   },
   "file_extension": ".py",
   "mimetype": "text/x-python",
   "name": "python",
   "nbconvert_exporter": "python",
   "pygments_lexer": "ipython2",
   "version": "2.7.6"
  }
 },
 "nbformat": 4,
 "nbformat_minor": 0
}