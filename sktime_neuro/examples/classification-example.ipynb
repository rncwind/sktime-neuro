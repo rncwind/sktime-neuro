{
 "cells": [
  {
   "cell_type": "code",
   "execution_count": 1,
   "outputs": [
    {
     "ename": "KeyboardInterrupt",
     "evalue": "",
     "output_type": "error",
     "traceback": [
      "\u001B[0;31m---------------------------------------------------------------------------\u001B[0m",
      "\u001B[0;31mKeyboardInterrupt\u001B[0m                         Traceback (most recent call last)",
      "Input \u001B[0;32mIn [1]\u001B[0m, in \u001B[0;36m<cell line: 10>\u001B[0;34m()\u001B[0m\n\u001B[1;32m      8\u001B[0m \u001B[38;5;28;01mfrom\u001B[39;00m \u001B[38;5;21;01msktime_neuro\u001B[39;00m\u001B[38;5;21;01m.\u001B[39;00m\u001B[38;5;21;01mtransformations\u001B[39;00m\u001B[38;5;21;01m.\u001B[39;00m\u001B[38;5;21;01mseries_to_panel\u001B[39;00m\u001B[38;5;21;01m.\u001B[39;00m\u001B[38;5;21;01meeg_epoching\u001B[39;00m \u001B[38;5;28;01mimport\u001B[39;00m epoch\n\u001B[1;32m      9\u001B[0m \u001B[38;5;28;01mfrom\u001B[39;00m \u001B[38;5;21;01msktime_neuro\u001B[39;00m\u001B[38;5;21;01m.\u001B[39;00m\u001B[38;5;21;01mutils\u001B[39;00m\u001B[38;5;21;01m.\u001B[39;00m\u001B[38;5;21;01mmne_processing\u001B[39;00m \u001B[38;5;28;01mimport\u001B[39;00m create_annotation\n\u001B[0;32m---> 10\u001B[0m \u001B[38;5;28;01mfrom\u001B[39;00m \u001B[38;5;21;01msktime\u001B[39;00m\u001B[38;5;21;01m.\u001B[39;00m\u001B[38;5;21;01mclassification\u001B[39;00m\u001B[38;5;21;01m.\u001B[39;00m\u001B[38;5;21;01mkernel_based\u001B[39;00m \u001B[38;5;28;01mimport\u001B[39;00m RocketClassifier\n\u001B[1;32m     12\u001B[0m \u001B[38;5;28;01mfrom\u001B[39;00m \u001B[38;5;21;01msklearn\u001B[39;00m\u001B[38;5;21;01m.\u001B[39;00m\u001B[38;5;21;01mmetrics\u001B[39;00m \u001B[38;5;28;01mimport\u001B[39;00m classification_report,accuracy_score\n",
      "File \u001B[0;32m~/.local/share/virtualenvs/sktime-neuro-EViz1zTZ/lib/python3.8/site-packages/sktime/classification/kernel_based/__init__.py:5\u001B[0m, in \u001B[0;36m<module>\u001B[0;34m\u001B[0m\n\u001B[1;32m      2\u001B[0m \u001B[38;5;124;03m\"\"\"Kernel based time series classifiers.\"\"\"\u001B[39;00m\n\u001B[1;32m      3\u001B[0m __all__ \u001B[38;5;241m=\u001B[39m [\u001B[38;5;124m\"\u001B[39m\u001B[38;5;124mRocketClassifier\u001B[39m\u001B[38;5;124m\"\u001B[39m, \u001B[38;5;124m\"\u001B[39m\u001B[38;5;124mArsenal\u001B[39m\u001B[38;5;124m\"\u001B[39m]\n\u001B[0;32m----> 5\u001B[0m \u001B[38;5;28;01mfrom\u001B[39;00m \u001B[38;5;21;01msktime\u001B[39;00m\u001B[38;5;21;01m.\u001B[39;00m\u001B[38;5;21;01mclassification\u001B[39;00m\u001B[38;5;21;01m.\u001B[39;00m\u001B[38;5;21;01mkernel_based\u001B[39;00m\u001B[38;5;21;01m.\u001B[39;00m\u001B[38;5;21;01m_arsenal\u001B[39;00m \u001B[38;5;28;01mimport\u001B[39;00m Arsenal\n\u001B[1;32m      6\u001B[0m \u001B[38;5;28;01mfrom\u001B[39;00m \u001B[38;5;21;01msktime\u001B[39;00m\u001B[38;5;21;01m.\u001B[39;00m\u001B[38;5;21;01mclassification\u001B[39;00m\u001B[38;5;21;01m.\u001B[39;00m\u001B[38;5;21;01mkernel_based\u001B[39;00m\u001B[38;5;21;01m.\u001B[39;00m\u001B[38;5;21;01m_rocket_classifier\u001B[39;00m \u001B[38;5;28;01mimport\u001B[39;00m RocketClassifier\n",
      "File \u001B[0;32m~/.local/share/virtualenvs/sktime-neuro-EViz1zTZ/lib/python3.8/site-packages/sktime/classification/kernel_based/_arsenal.py:21\u001B[0m, in \u001B[0;36m<module>\u001B[0;34m\u001B[0m\n\u001B[1;32m     19\u001B[0m \u001B[38;5;28;01mfrom\u001B[39;00m \u001B[38;5;21;01msktime\u001B[39;00m\u001B[38;5;21;01m.\u001B[39;00m\u001B[38;5;21;01mbase\u001B[39;00m\u001B[38;5;21;01m.\u001B[39;00m\u001B[38;5;21;01m_base\u001B[39;00m \u001B[38;5;28;01mimport\u001B[39;00m _clone_estimator\n\u001B[1;32m     20\u001B[0m \u001B[38;5;28;01mfrom\u001B[39;00m \u001B[38;5;21;01msktime\u001B[39;00m\u001B[38;5;21;01m.\u001B[39;00m\u001B[38;5;21;01mclassification\u001B[39;00m\u001B[38;5;21;01m.\u001B[39;00m\u001B[38;5;21;01mbase\u001B[39;00m \u001B[38;5;28;01mimport\u001B[39;00m BaseClassifier\n\u001B[0;32m---> 21\u001B[0m \u001B[38;5;28;01mfrom\u001B[39;00m \u001B[38;5;21;01msktime\u001B[39;00m\u001B[38;5;21;01m.\u001B[39;00m\u001B[38;5;21;01mtransformations\u001B[39;00m\u001B[38;5;21;01m.\u001B[39;00m\u001B[38;5;21;01mpanel\u001B[39;00m\u001B[38;5;21;01m.\u001B[39;00m\u001B[38;5;21;01mrocket\u001B[39;00m \u001B[38;5;28;01mimport\u001B[39;00m (\n\u001B[1;32m     22\u001B[0m     MiniRocket,\n\u001B[1;32m     23\u001B[0m     MiniRocketMultivariate,\n\u001B[1;32m     24\u001B[0m     MultiRocket,\n\u001B[1;32m     25\u001B[0m     MultiRocketMultivariate,\n\u001B[1;32m     26\u001B[0m     Rocket,\n\u001B[1;32m     27\u001B[0m )\n\u001B[1;32m     28\u001B[0m \u001B[38;5;28;01mfrom\u001B[39;00m \u001B[38;5;21;01msktime\u001B[39;00m\u001B[38;5;21;01m.\u001B[39;00m\u001B[38;5;21;01mutils\u001B[39;00m\u001B[38;5;21;01m.\u001B[39;00m\u001B[38;5;21;01mvalidation\u001B[39;00m\u001B[38;5;21;01m.\u001B[39;00m\u001B[38;5;21;01mpanel\u001B[39;00m \u001B[38;5;28;01mimport\u001B[39;00m check_X_y\n\u001B[1;32m     31\u001B[0m \u001B[38;5;28;01mclass\u001B[39;00m \u001B[38;5;21;01mArsenal\u001B[39;00m(BaseClassifier):\n",
      "File \u001B[0;32m~/.local/share/virtualenvs/sktime-neuro-EViz1zTZ/lib/python3.8/site-packages/sktime/transformations/panel/rocket/__init__.py:11\u001B[0m, in \u001B[0;36m<module>\u001B[0;34m\u001B[0m\n\u001B[1;32m      2\u001B[0m \u001B[38;5;124;03m\"\"\"Rocket transformers.\"\"\"\u001B[39;00m\n\u001B[1;32m      3\u001B[0m __all__ \u001B[38;5;241m=\u001B[39m [\n\u001B[1;32m      4\u001B[0m     \u001B[38;5;124m\"\u001B[39m\u001B[38;5;124mRocket\u001B[39m\u001B[38;5;124m\"\u001B[39m,\n\u001B[1;32m      5\u001B[0m     \u001B[38;5;124m\"\u001B[39m\u001B[38;5;124mMiniRocket\u001B[39m\u001B[38;5;124m\"\u001B[39m,\n\u001B[0;32m   (...)\u001B[0m\n\u001B[1;32m      8\u001B[0m     \u001B[38;5;124m\"\u001B[39m\u001B[38;5;124mMultiRocketMultivariate\u001B[39m\u001B[38;5;124m\"\u001B[39m,\n\u001B[1;32m      9\u001B[0m ]\n\u001B[0;32m---> 11\u001B[0m \u001B[38;5;28;01mfrom\u001B[39;00m \u001B[38;5;21;01m.\u001B[39;00m\u001B[38;5;21;01m_minirocket\u001B[39;00m \u001B[38;5;28;01mimport\u001B[39;00m MiniRocket\n\u001B[1;32m     12\u001B[0m \u001B[38;5;28;01mfrom\u001B[39;00m \u001B[38;5;21;01m.\u001B[39;00m\u001B[38;5;21;01m_minirocket_multivariate\u001B[39;00m \u001B[38;5;28;01mimport\u001B[39;00m MiniRocketMultivariate\n\u001B[1;32m     13\u001B[0m \u001B[38;5;28;01mfrom\u001B[39;00m \u001B[38;5;21;01m.\u001B[39;00m\u001B[38;5;21;01m_multirocket\u001B[39;00m \u001B[38;5;28;01mimport\u001B[39;00m MultiRocket\n",
      "File \u001B[0;32m~/.local/share/virtualenvs/sktime-neuro-EViz1zTZ/lib/python3.8/site-packages/sktime/transformations/panel/rocket/_minirocket.py:132\u001B[0m, in \u001B[0;36m<module>\u001B[0;34m\u001B[0m\n\u001B[1;32m    122\u001B[0m         set_num_threads(prev_threads)\n\u001B[1;32m    123\u001B[0m         \u001B[38;5;28;01mreturn\u001B[39;00m pd\u001B[38;5;241m.\u001B[39mDataFrame(X_)\n\u001B[1;32m    126\u001B[0m \u001B[38;5;129;43m@njit\u001B[39;49m\u001B[43m(\u001B[49m\n\u001B[1;32m    127\u001B[0m \u001B[43m    \u001B[49m\u001B[38;5;124;43m\"\u001B[39;49m\u001B[38;5;124;43mfloat32[:](float32[:,:],int32[:],int32[:],float32[:],optional(int32))\u001B[39;49m\u001B[38;5;124;43m\"\u001B[39;49m\u001B[43m,\u001B[49m\n\u001B[1;32m    128\u001B[0m \u001B[43m    \u001B[49m\u001B[43mfastmath\u001B[49m\u001B[38;5;241;43m=\u001B[39;49m\u001B[38;5;28;43;01mTrue\u001B[39;49;00m\u001B[43m,\u001B[49m\n\u001B[1;32m    129\u001B[0m \u001B[43m    \u001B[49m\u001B[43mparallel\u001B[49m\u001B[38;5;241;43m=\u001B[39;49m\u001B[38;5;28;43;01mFalse\u001B[39;49;00m\u001B[43m,\u001B[49m\n\u001B[1;32m    130\u001B[0m \u001B[43m    \u001B[49m\u001B[43mcache\u001B[49m\u001B[38;5;241;43m=\u001B[39;49m\u001B[38;5;28;43;01mTrue\u001B[39;49;00m\u001B[43m,\u001B[49m\n\u001B[1;32m    131\u001B[0m \u001B[43m)\u001B[49m\n\u001B[0;32m--> 132\u001B[0m \u001B[38;5;28;43;01mdef\u001B[39;49;00m\u001B[43m \u001B[49m\u001B[38;5;21;43m_fit_biases\u001B[39;49m\u001B[43m(\u001B[49m\u001B[43mX\u001B[49m\u001B[43m,\u001B[49m\u001B[43m \u001B[49m\u001B[43mdilations\u001B[49m\u001B[43m,\u001B[49m\u001B[43m \u001B[49m\u001B[43mnum_features_per_dilation\u001B[49m\u001B[43m,\u001B[49m\u001B[43m \u001B[49m\u001B[43mquantiles\u001B[49m\u001B[43m,\u001B[49m\u001B[43m \u001B[49m\u001B[43mseed\u001B[49m\u001B[43m)\u001B[49m\u001B[43m:\u001B[49m\n\u001B[1;32m    134\u001B[0m \u001B[43m    \u001B[49m\u001B[38;5;28;43;01mif\u001B[39;49;00m\u001B[43m \u001B[49m\u001B[43mseed\u001B[49m\u001B[43m \u001B[49m\u001B[38;5;129;43;01mis\u001B[39;49;00m\u001B[43m \u001B[49m\u001B[38;5;129;43;01mnot\u001B[39;49;00m\u001B[43m \u001B[49m\u001B[38;5;28;43;01mNone\u001B[39;49;00m\u001B[43m:\u001B[49m\n\u001B[1;32m    135\u001B[0m \u001B[43m        \u001B[49m\u001B[43mnp\u001B[49m\u001B[38;5;241;43m.\u001B[39;49m\u001B[43mrandom\u001B[49m\u001B[38;5;241;43m.\u001B[39;49m\u001B[43mseed\u001B[49m\u001B[43m(\u001B[49m\u001B[43mseed\u001B[49m\u001B[43m)\u001B[49m\n",
      "File \u001B[0;32m~/.local/share/virtualenvs/sktime-neuro-EViz1zTZ/lib/python3.8/site-packages/numba/core/decorators.py:219\u001B[0m, in \u001B[0;36m_jit.<locals>.wrapper\u001B[0;34m(func)\u001B[0m\n\u001B[1;32m    217\u001B[0m     \u001B[38;5;28;01mwith\u001B[39;00m typeinfer\u001B[38;5;241m.\u001B[39mregister_dispatcher(disp):\n\u001B[1;32m    218\u001B[0m         \u001B[38;5;28;01mfor\u001B[39;00m sig \u001B[38;5;129;01min\u001B[39;00m sigs:\n\u001B[0;32m--> 219\u001B[0m             \u001B[43mdisp\u001B[49m\u001B[38;5;241;43m.\u001B[39;49m\u001B[43mcompile\u001B[49m\u001B[43m(\u001B[49m\u001B[43msig\u001B[49m\u001B[43m)\u001B[49m\n\u001B[1;32m    220\u001B[0m         disp\u001B[38;5;241m.\u001B[39mdisable_compile()\n\u001B[1;32m    221\u001B[0m \u001B[38;5;28;01mreturn\u001B[39;00m disp\n",
      "File \u001B[0;32m~/.local/share/virtualenvs/sktime-neuro-EViz1zTZ/lib/python3.8/site-packages/numba/core/dispatcher.py:946\u001B[0m, in \u001B[0;36mDispatcher.compile\u001B[0;34m(self, sig)\u001B[0m\n\u001B[1;32m    944\u001B[0m     \u001B[38;5;28;01mreturn\u001B[39;00m existing\u001B[38;5;241m.\u001B[39mentry_point\n\u001B[1;32m    945\u001B[0m \u001B[38;5;66;03m# Try to load from disk cache\u001B[39;00m\n\u001B[0;32m--> 946\u001B[0m cres \u001B[38;5;241m=\u001B[39m \u001B[38;5;28;43mself\u001B[39;49m\u001B[38;5;241;43m.\u001B[39;49m\u001B[43m_cache\u001B[49m\u001B[38;5;241;43m.\u001B[39;49m\u001B[43mload_overload\u001B[49m\u001B[43m(\u001B[49m\u001B[43msig\u001B[49m\u001B[43m,\u001B[49m\u001B[43m \u001B[49m\u001B[38;5;28;43mself\u001B[39;49m\u001B[38;5;241;43m.\u001B[39;49m\u001B[43mtargetctx\u001B[49m\u001B[43m)\u001B[49m\n\u001B[1;32m    947\u001B[0m \u001B[38;5;28;01mif\u001B[39;00m cres \u001B[38;5;129;01mis\u001B[39;00m \u001B[38;5;129;01mnot\u001B[39;00m \u001B[38;5;28;01mNone\u001B[39;00m:\n\u001B[1;32m    948\u001B[0m     \u001B[38;5;28mself\u001B[39m\u001B[38;5;241m.\u001B[39m_cache_hits[sig] \u001B[38;5;241m+\u001B[39m\u001B[38;5;241m=\u001B[39m \u001B[38;5;241m1\u001B[39m\n",
      "File \u001B[0;32m~/.local/share/virtualenvs/sktime-neuro-EViz1zTZ/lib/python3.8/site-packages/numba/core/caching.py:645\u001B[0m, in \u001B[0;36mCache.load_overload\u001B[0;34m(self, sig, target_context)\u001B[0m\n\u001B[1;32m    640\u001B[0m \u001B[38;5;124;03m\"\"\"\u001B[39;00m\n\u001B[1;32m    641\u001B[0m \u001B[38;5;124;03mLoad and recreate the cached object for the given signature,\u001B[39;00m\n\u001B[1;32m    642\u001B[0m \u001B[38;5;124;03musing the *target_context*.\u001B[39;00m\n\u001B[1;32m    643\u001B[0m \u001B[38;5;124;03m\"\"\"\u001B[39;00m\n\u001B[1;32m    644\u001B[0m \u001B[38;5;66;03m# Refresh the context to ensure it is initialized\u001B[39;00m\n\u001B[0;32m--> 645\u001B[0m \u001B[43mtarget_context\u001B[49m\u001B[38;5;241;43m.\u001B[39;49m\u001B[43mrefresh\u001B[49m\u001B[43m(\u001B[49m\u001B[43m)\u001B[49m\n\u001B[1;32m    646\u001B[0m \u001B[38;5;28;01mwith\u001B[39;00m \u001B[38;5;28mself\u001B[39m\u001B[38;5;241m.\u001B[39m_guard_against_spurious_io_errors():\n\u001B[1;32m    647\u001B[0m     \u001B[38;5;28;01mreturn\u001B[39;00m \u001B[38;5;28mself\u001B[39m\u001B[38;5;241m.\u001B[39m_load_overload(sig, target_context)\n",
      "File \u001B[0;32m~/.local/share/virtualenvs/sktime-neuro-EViz1zTZ/lib/python3.8/site-packages/numba/core/base.py:275\u001B[0m, in \u001B[0;36mBaseContext.refresh\u001B[0;34m(self)\u001B[0m\n\u001B[1;32m    270\u001B[0m \u001B[38;5;124;03m\"\"\"\u001B[39;00m\n\u001B[1;32m    271\u001B[0m \u001B[38;5;124;03mRefresh context with new declarations from known registries.\u001B[39;00m\n\u001B[1;32m    272\u001B[0m \u001B[38;5;124;03mUseful for third-party extensions.\u001B[39;00m\n\u001B[1;32m    273\u001B[0m \u001B[38;5;124;03m\"\"\"\u001B[39;00m\n\u001B[1;32m    274\u001B[0m \u001B[38;5;66;03m# load target specific registries\u001B[39;00m\n\u001B[0;32m--> 275\u001B[0m \u001B[38;5;28;43mself\u001B[39;49m\u001B[38;5;241;43m.\u001B[39;49m\u001B[43mload_additional_registries\u001B[49m\u001B[43m(\u001B[49m\u001B[43m)\u001B[49m\n\u001B[1;32m    277\u001B[0m \u001B[38;5;66;03m# Populate the builtin registry, this has to happen after loading\u001B[39;00m\n\u001B[1;32m    278\u001B[0m \u001B[38;5;66;03m# additional registries as some of the \"additional\" registries write\u001B[39;00m\n\u001B[1;32m    279\u001B[0m \u001B[38;5;66;03m# their implementations into the builtin_registry and would be missed if\u001B[39;00m\n\u001B[1;32m    280\u001B[0m \u001B[38;5;66;03m# this ran first.\u001B[39;00m\n\u001B[1;32m    281\u001B[0m \u001B[38;5;28mself\u001B[39m\u001B[38;5;241m.\u001B[39minstall_registry(builtin_registry)\n",
      "File \u001B[0;32m~/.local/share/virtualenvs/sktime-neuro-EViz1zTZ/lib/python3.8/site-packages/numba/core/cpu.py:71\u001B[0m, in \u001B[0;36mCPUContext.load_additional_registries\u001B[0;34m(self)\u001B[0m\n\u001B[1;32m     69\u001B[0m \u001B[38;5;28;01mdef\u001B[39;00m \u001B[38;5;21mload_additional_registries\u001B[39m(\u001B[38;5;28mself\u001B[39m):\n\u001B[1;32m     70\u001B[0m     \u001B[38;5;66;03m# Add implementations that work via import\u001B[39;00m\n\u001B[0;32m---> 71\u001B[0m     \u001B[38;5;28;01mfrom\u001B[39;00m \u001B[38;5;21;01mnumba\u001B[39;00m\u001B[38;5;21;01m.\u001B[39;00m\u001B[38;5;21;01mcpython\u001B[39;00m \u001B[38;5;28;01mimport\u001B[39;00m (builtins, charseq, enumimpl, hashing, heapq,\n\u001B[1;32m     72\u001B[0m                                iterators, listobj, numbers, rangeobj,\n\u001B[1;32m     73\u001B[0m                                setobj, slicing, tupleobj, unicode,)\n\u001B[1;32m     74\u001B[0m     \u001B[38;5;28;01mfrom\u001B[39;00m \u001B[38;5;21;01mnumba\u001B[39;00m\u001B[38;5;21;01m.\u001B[39;00m\u001B[38;5;21;01mcore\u001B[39;00m \u001B[38;5;28;01mimport\u001B[39;00m optional\n\u001B[1;32m     75\u001B[0m     \u001B[38;5;28;01mfrom\u001B[39;00m \u001B[38;5;21;01mnumba\u001B[39;00m\u001B[38;5;21;01m.\u001B[39;00m\u001B[38;5;21;01mmisc\u001B[39;00m \u001B[38;5;28;01mimport\u001B[39;00m gdb_hook, literal\n",
      "File \u001B[0;32m~/.local/share/virtualenvs/sktime-neuro-EViz1zTZ/lib/python3.8/site-packages/numba/cpython/charseq.py:10\u001B[0m, in \u001B[0;36m<module>\u001B[0;34m\u001B[0m\n\u001B[1;32m      7\u001B[0m \u001B[38;5;28;01mfrom\u001B[39;00m \u001B[38;5;21;01mnumba\u001B[39;00m\u001B[38;5;21;01m.\u001B[39;00m\u001B[38;5;21;01mcore\u001B[39;00m\u001B[38;5;21;01m.\u001B[39;00m\u001B[38;5;21;01mextending\u001B[39;00m \u001B[38;5;28;01mimport\u001B[39;00m (overload, intrinsic, overload_method,\n\u001B[1;32m      8\u001B[0m                                   lower_cast, register_jitable)\n\u001B[1;32m      9\u001B[0m \u001B[38;5;28;01mfrom\u001B[39;00m \u001B[38;5;21;01mnumba\u001B[39;00m\u001B[38;5;21;01m.\u001B[39;00m\u001B[38;5;21;01mcore\u001B[39;00m\u001B[38;5;21;01m.\u001B[39;00m\u001B[38;5;21;01mcgutils\u001B[39;00m \u001B[38;5;28;01mimport\u001B[39;00m is_nonelike\n\u001B[0;32m---> 10\u001B[0m \u001B[38;5;28;01mfrom\u001B[39;00m \u001B[38;5;21;01mnumba\u001B[39;00m\u001B[38;5;21;01m.\u001B[39;00m\u001B[38;5;21;01mcpython\u001B[39;00m \u001B[38;5;28;01mimport\u001B[39;00m unicode\n\u001B[1;32m     12\u001B[0m \u001B[38;5;66;03m# bytes and str arrays items are of type CharSeq and UnicodeCharSeq,\u001B[39;00m\n\u001B[1;32m     13\u001B[0m \u001B[38;5;66;03m# respectively.  See numpy/types/npytypes.py for CharSeq,\u001B[39;00m\n\u001B[1;32m     14\u001B[0m \u001B[38;5;66;03m# UnicodeCharSeq definitions.  The corresponding data models are\u001B[39;00m\n\u001B[1;32m     15\u001B[0m \u001B[38;5;66;03m# defined in numpy/datamodel/models.py. Boxing/unboxing of item types\u001B[39;00m\n\u001B[1;32m     16\u001B[0m \u001B[38;5;66;03m# are defined in numpy/targets/boxing.py, see box_unicodecharseq,\u001B[39;00m\n\u001B[1;32m     17\u001B[0m \u001B[38;5;66;03m# unbox_unicodecharseq, box_charseq, unbox_charseq.\u001B[39;00m\n\u001B[1;32m     19\u001B[0m s1_dtype \u001B[38;5;241m=\u001B[39m np\u001B[38;5;241m.\u001B[39mdtype(\u001B[38;5;124m'\u001B[39m\u001B[38;5;124mS1\u001B[39m\u001B[38;5;124m'\u001B[39m)\n",
      "File \u001B[0;32m~/.local/share/virtualenvs/sktime-neuro-EViz1zTZ/lib/python3.8/site-packages/numba/cpython/unicode.py:30\u001B[0m, in \u001B[0;36m<module>\u001B[0;34m\u001B[0m\n\u001B[1;32m     23\u001B[0m \u001B[38;5;28;01mfrom\u001B[39;00m \u001B[38;5;21;01mnumba\u001B[39;00m\u001B[38;5;21;01m.\u001B[39;00m\u001B[38;5;21;01mcore\u001B[39;00m\u001B[38;5;21;01m.\u001B[39;00m\u001B[38;5;21;01mpythonapi\u001B[39;00m \u001B[38;5;28;01mimport\u001B[39;00m (\n\u001B[1;32m     24\u001B[0m     PY_UNICODE_1BYTE_KIND,\n\u001B[1;32m     25\u001B[0m     PY_UNICODE_2BYTE_KIND,\n\u001B[1;32m     26\u001B[0m     PY_UNICODE_4BYTE_KIND,\n\u001B[1;32m     27\u001B[0m     PY_UNICODE_WCHAR_KIND,\n\u001B[1;32m     28\u001B[0m )\n\u001B[1;32m     29\u001B[0m \u001B[38;5;28;01mfrom\u001B[39;00m \u001B[38;5;21;01mnumba\u001B[39;00m\u001B[38;5;21;01m.\u001B[39;00m\u001B[38;5;21;01m_helperlib\u001B[39;00m \u001B[38;5;28;01mimport\u001B[39;00m c_helpers\n\u001B[0;32m---> 30\u001B[0m \u001B[38;5;28;01mfrom\u001B[39;00m \u001B[38;5;21;01mnumba\u001B[39;00m\u001B[38;5;21;01m.\u001B[39;00m\u001B[38;5;21;01mcpython\u001B[39;00m\u001B[38;5;21;01m.\u001B[39;00m\u001B[38;5;21;01mhashing\u001B[39;00m \u001B[38;5;28;01mimport\u001B[39;00m _Py_hash_t\n\u001B[1;32m     31\u001B[0m \u001B[38;5;28;01mfrom\u001B[39;00m \u001B[38;5;21;01mnumba\u001B[39;00m\u001B[38;5;21;01m.\u001B[39;00m\u001B[38;5;21;01mcore\u001B[39;00m\u001B[38;5;21;01m.\u001B[39;00m\u001B[38;5;21;01munsafe\u001B[39;00m\u001B[38;5;21;01m.\u001B[39;00m\u001B[38;5;21;01mbytes\u001B[39;00m \u001B[38;5;28;01mimport\u001B[39;00m memcpy_region\n\u001B[1;32m     32\u001B[0m \u001B[38;5;28;01mfrom\u001B[39;00m \u001B[38;5;21;01mnumba\u001B[39;00m\u001B[38;5;21;01m.\u001B[39;00m\u001B[38;5;21;01mcore\u001B[39;00m\u001B[38;5;21;01m.\u001B[39;00m\u001B[38;5;21;01merrors\u001B[39;00m \u001B[38;5;28;01mimport\u001B[39;00m TypingError\n",
      "File \u001B[0;32m~/.local/share/virtualenvs/sktime-neuro-EViz1zTZ/lib/python3.8/site-packages/numba/cpython/hashing.py:21\u001B[0m, in \u001B[0;36m<module>\u001B[0;34m\u001B[0m\n\u001B[1;32m     19\u001B[0m \u001B[38;5;28;01mfrom\u001B[39;00m \u001B[38;5;21;01mnumba\u001B[39;00m\u001B[38;5;21;01m.\u001B[39;00m\u001B[38;5;21;01mcore\u001B[39;00m \u001B[38;5;28;01mimport\u001B[39;00m types, utils\n\u001B[1;32m     20\u001B[0m \u001B[38;5;28;01mfrom\u001B[39;00m \u001B[38;5;21;01mnumba\u001B[39;00m\u001B[38;5;21;01m.\u001B[39;00m\u001B[38;5;21;01mcore\u001B[39;00m\u001B[38;5;21;01m.\u001B[39;00m\u001B[38;5;21;01munsafe\u001B[39;00m\u001B[38;5;21;01m.\u001B[39;00m\u001B[38;5;21;01mbytes\u001B[39;00m \u001B[38;5;28;01mimport\u001B[39;00m grab_byte, grab_uint64_t\n\u001B[0;32m---> 21\u001B[0m \u001B[38;5;28;01mfrom\u001B[39;00m \u001B[38;5;21;01mnumba\u001B[39;00m\u001B[38;5;21;01m.\u001B[39;00m\u001B[38;5;21;01mcpython\u001B[39;00m\u001B[38;5;21;01m.\u001B[39;00m\u001B[38;5;21;01mrandomimpl\u001B[39;00m \u001B[38;5;28;01mimport\u001B[39;00m (const_int, get_next_int, get_next_int32,\n\u001B[1;32m     22\u001B[0m                                       get_state_ptr)\n\u001B[1;32m     24\u001B[0m _py38_or_later \u001B[38;5;241m=\u001B[39m utils\u001B[38;5;241m.\u001B[39mPYVERSION \u001B[38;5;241m>\u001B[39m\u001B[38;5;241m=\u001B[39m (\u001B[38;5;241m3\u001B[39m, \u001B[38;5;241m8\u001B[39m)\n\u001B[1;32m     25\u001B[0m _py310_or_later \u001B[38;5;241m=\u001B[39m utils\u001B[38;5;241m.\u001B[39mPYVERSION \u001B[38;5;241m>\u001B[39m\u001B[38;5;241m=\u001B[39m (\u001B[38;5;241m3\u001B[39m, \u001B[38;5;241m10\u001B[39m)\n",
      "File \u001B[0;32m<frozen importlib._bootstrap>:991\u001B[0m, in \u001B[0;36m_find_and_load\u001B[0;34m(name, import_)\u001B[0m\n",
      "File \u001B[0;32m<frozen importlib._bootstrap>:975\u001B[0m, in \u001B[0;36m_find_and_load_unlocked\u001B[0;34m(name, import_)\u001B[0m\n",
      "File \u001B[0;32m<frozen importlib._bootstrap>:671\u001B[0m, in \u001B[0;36m_load_unlocked\u001B[0;34m(spec)\u001B[0m\n",
      "File \u001B[0;32m<frozen importlib._bootstrap_external>:839\u001B[0m, in \u001B[0;36mexec_module\u001B[0;34m(self, module)\u001B[0m\n",
      "File \u001B[0;32m<frozen importlib._bootstrap_external>:971\u001B[0m, in \u001B[0;36mget_code\u001B[0;34m(self, fullname)\u001B[0m\n",
      "File \u001B[0;32m<frozen importlib._bootstrap_external>:640\u001B[0m, in \u001B[0;36m_compile_bytecode\u001B[0;34m(data, name, bytecode_path, source_path)\u001B[0m\n",
      "\u001B[0;31mKeyboardInterrupt\u001B[0m: "
     ]
    }
   ],
   "source": [
    "if 'autoreload' not in get_ipython().extension_manager.loaded:\n",
    "    %load_ext autoreload\n",
    "%autoreload 2\n",
    "import numpy as np\n",
    "from sktime_neuro.utils.pickle_wrapper import deserialise_if_exists, serialise_if_doesnt_exist\n",
    "from sktime_neuro.datasets.matching_pennies_util import *\n",
    "from sktime_neuro.transformations.multivariate_detrender import ColumnDetrender\n",
    "from sktime_neuro.transformations.series_to_panel.eeg_epoching import epoch\n",
    "from sktime_neuro.utils.mne_processing import create_annotation\n",
    "from sktime.classification.kernel_based import RocketClassifier\n",
    "\n",
    "from sklearn.metrics import classification_report,accuracy_score"
   ],
   "metadata": {
    "collapsed": false,
    "pycharm": {
     "name": "#%%\n"
    }
   }
  },
  {
   "cell_type": "code",
   "execution_count": 2,
   "outputs": [],
   "source": [
    "def detrend(data, n_jobs=4):\n",
    "    dt = ColumnDetrender(data)\n",
    "    return dt.detrend(n_jobs=n_jobs)"
   ],
   "metadata": {
    "collapsed": false,
    "pycharm": {
     "name": "#%%\n"
    }
   }
  },
  {
   "cell_type": "code",
   "execution_count": 3,
   "outputs": [],
   "source": [
    "def process(participantNumber):\n",
    "    raw = get_raw(participantNumber)\n",
    "    annots = create_annotation(raw)\n",
    "    data = raw.get_data().transpose()\n",
    "    detrended = detrend(data, -1)\n",
    "    sf = raw.info['sfreq']\n",
    "\n",
    "    return detrended, annots, sf"
   ],
   "metadata": {
    "collapsed": false,
    "pycharm": {
     "name": "#%%\n"
    }
   }
  },
  {
   "cell_type": "code",
   "execution_count": 4,
   "outputs": [
    {
     "name": "stderr",
     "output_type": "stream",
     "text": [
      "/home/patchouli/programming/foss/sktime-neuro/sktime_neuro/datasets/matching_pennies_util.py:8: RuntimeWarning: Did not find any eeg.json associated with sub-08_task-matchingpennies.\n",
      "\n",
      "The search_str was \"/home/patchouli/programming/foss/sktime-neuro/cache/eeg_matchingpennies/sub-08/**/eeg/sub-08*eeg.json\"\n",
      "  return read_raw_bids(bids_path=bidspath, verbose=False)\n",
      "[Parallel(n_jobs=-1)]: Using backend LokyBackend with 16 concurrent workers.\n",
      "[Parallel(n_jobs=-1)]: Done   3 out of  10 | elapsed:   25.6s remaining:   59.7s\n",
      "[Parallel(n_jobs=-1)]: Done   5 out of  10 | elapsed:   26.6s remaining:   26.6s\n",
      "[Parallel(n_jobs=-1)]: Done   7 out of  10 | elapsed:   27.5s remaining:   11.8s\n",
      "[Parallel(n_jobs=-1)]: Done  10 out of  10 | elapsed:   29.2s finished\n",
      "/home/patchouli/programming/foss/sktime-neuro/sktime_neuro/datasets/matching_pennies_util.py:8: RuntimeWarning: Did not find any eeg.json associated with sub-07_task-matchingpennies.\n",
      "\n",
      "The search_str was \"/home/patchouli/programming/foss/sktime-neuro/cache/eeg_matchingpennies/sub-07/**/eeg/sub-07*eeg.json\"\n",
      "  return read_raw_bids(bids_path=bidspath, verbose=False)\n",
      "[Parallel(n_jobs=-1)]: Using backend LokyBackend with 16 concurrent workers.\n",
      "[Parallel(n_jobs=-1)]: Done   3 out of  10 | elapsed:   22.9s remaining:   53.3s\n",
      "[Parallel(n_jobs=-1)]: Done   5 out of  10 | elapsed:   25.0s remaining:   25.0s\n",
      "[Parallel(n_jobs=-1)]: Done   7 out of  10 | elapsed:   25.9s remaining:   11.1s\n",
      "[Parallel(n_jobs=-1)]: Done  10 out of  10 | elapsed:   27.5s finished\n"
     ]
    }
   ],
   "source": [
    "p8, p8a, p8s = process(8)\n",
    "p7, p7a, p7s = process(7)"
   ],
   "metadata": {
    "collapsed": false,
    "pycharm": {
     "name": "#%%\n"
    }
   }
  },
  {
   "cell_type": "code",
   "execution_count": 5,
   "outputs": [],
   "source": [
    "onsetlabels = [\"raised-right/match-true\", \"raised-right/match-false\",\n",
    "          \"raised-left/match-true\", \"raised-left/match-false\"]\n",
    "#epoched, labels = epoch(p8d, annotation, onsetlabels, [-2,2], sfreq=p8r.info['sfreq'])\n",
    "p8e, p8l = epoch(p8, p8a, onsetlabels, [-2,2], sfreq=p8s)\n",
    "p7e, p7l = epoch(p7, p7a, onsetlabels, [-2,2], sfreq=p7s)"
   ],
   "metadata": {
    "collapsed": false,
    "pycharm": {
     "name": "#%%\n"
    }
   }
  },
  {
   "cell_type": "code",
   "execution_count": 6,
   "outputs": [
    {
     "data": {
      "text/plain": "RocketClassifier(n_jobs=-1)"
     },
     "execution_count": 6,
     "metadata": {},
     "output_type": "execute_result"
    }
   ],
   "source": [
    "#classcount = p8e.shape[1]\n",
    "rocket = RocketClassifier(n_jobs=-1)\n",
    "rocket.fit(p8e, p8l)\n",
    "#pred = rocket.predict(p7e)"
   ],
   "metadata": {
    "collapsed": false,
    "pycharm": {
     "name": "#%%\n"
    }
   }
  },
  {
   "cell_type": "code",
   "execution_count": 13,
   "outputs": [],
   "source": [
    "ypred = rocket.predict(p7e)"
   ],
   "metadata": {
    "collapsed": false,
    "pycharm": {
     "name": "#%%\n"
    }
   }
  },
  {
   "cell_type": "code",
   "execution_count": 18,
   "outputs": [
    {
     "name": "stdout",
     "output_type": "stream",
     "text": [
      "                          precision    recall  f1-score   support\n",
      "\n",
      " raised-left/match-false       0.72      0.23      0.35       158\n",
      "  raised-left/match-true       0.04      0.44      0.07         9\n",
      "raised-right/match-false       0.08      0.24      0.12        17\n",
      " raised-right/match-true       0.55      0.48      0.52       116\n",
      "\n",
      "                accuracy                           0.33       300\n",
      "               macro avg       0.35      0.35      0.26       300\n",
      "            weighted avg       0.60      0.33      0.39       300\n",
      "\n"
     ]
    }
   ],
   "source": [
    "print(classification_report(ypred, p7l))"
   ],
   "metadata": {
    "collapsed": false,
    "pycharm": {
     "name": "#%%\n"
    }
   }
  }
 ],
 "metadata": {
  "kernelspec": {
   "display_name": "Python 3",
   "language": "python",
   "name": "python3"
  },
  "language_info": {
   "codemirror_mode": {
    "name": "ipython",
    "version": 2
   },
   "file_extension": ".py",
   "mimetype": "text/x-python",
   "name": "python",
   "nbconvert_exporter": "python",
   "pygments_lexer": "ipython2",
   "version": "2.7.6"
  }
 },
 "nbformat": 4,
 "nbformat_minor": 0
}