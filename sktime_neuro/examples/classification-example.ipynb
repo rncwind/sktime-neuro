{
 "cells": [
  {
   "cell_type": "code",
   "execution_count": 10,
   "outputs": [
    {
     "name": "stdout",
     "output_type": "stream",
     "text": [
      "The autoreload extension is already loaded. To reload it, use:\n",
      "  %reload_ext autoreload\n"
     ]
    }
   ],
   "source": [
    "if 'autoreload' not in get_ipython().extension_manager.loaded:\n",
    "    %load_ext autoreload\n",
    "%autoreload 2\n",
    "import numpy as np\n",
    "from sktime_neuro.utils.pickle_wrapper import deserialise_if_exists, serialise_if_doesnt_exist\n",
    "from sktime_neuro.datasets.matching_pennies_util import *\n",
    "from sktime_neuro.transformations.multivariate_detrender import ColumnDetrender\n",
    "from sktime_neuro.transformations.series_to_panel.eeg_epoching import epoch\n",
    "from sktime_neuro.utils.mne_processing import create_annotation\n",
    "from sktime.classification.kernel_based import RocketClassifier\n",
    "\n",
    "from sklearn.metrics import classification_report,accuracy_score"
   ],
   "metadata": {
    "collapsed": false,
    "pycharm": {
     "name": "#%%\n"
    }
   }
  },
  {
   "cell_type": "code",
   "execution_count": 2,
   "outputs": [],
   "source": [
    "def detrend(data, n_jobs=4):\n",
    "    dt = ColumnDetrender(data)\n",
    "    return dt.detrend(n_jobs=n_jobs)"
   ],
   "metadata": {
    "collapsed": false,
    "pycharm": {
     "name": "#%%\n"
    }
   }
  },
  {
   "cell_type": "code",
   "execution_count": 3,
   "outputs": [],
   "source": [
    "def process(participantNumber):\n",
    "    raw = get_raw(participantNumber)\n",
    "    annots = create_annotation(raw)\n",
    "    data = raw.get_data().transpose()\n",
    "    detrended = detrend(data, -1)\n",
    "    sf = raw.info['sfreq']\n",
    "\n",
    "    return detrended, annots, sf"
   ],
   "metadata": {
    "collapsed": false,
    "pycharm": {
     "name": "#%%\n"
    }
   }
  },
  {
   "cell_type": "code",
   "execution_count": 4,
   "outputs": [
    {
     "name": "stderr",
     "output_type": "stream",
     "text": [
      "/home/patchouli/programming/foss/sktime-neuro/sktime_neuro/datasets/matching_pennies_util.py:8: RuntimeWarning: Did not find any eeg.json associated with sub-08_task-matchingpennies.\n",
      "\n",
      "The search_str was \"/home/patchouli/programming/foss/sktime-neuro/cache/eeg_matchingpennies/sub-08/**/eeg/sub-08*eeg.json\"\n",
      "  return read_raw_bids(bids_path=bidspath, verbose=False)\n",
      "[Parallel(n_jobs=-1)]: Using backend LokyBackend with 16 concurrent workers.\n",
      "[Parallel(n_jobs=-1)]: Done   3 out of  10 | elapsed:   25.6s remaining:   59.7s\n",
      "[Parallel(n_jobs=-1)]: Done   5 out of  10 | elapsed:   26.6s remaining:   26.6s\n",
      "[Parallel(n_jobs=-1)]: Done   7 out of  10 | elapsed:   27.5s remaining:   11.8s\n",
      "[Parallel(n_jobs=-1)]: Done  10 out of  10 | elapsed:   29.2s finished\n",
      "/home/patchouli/programming/foss/sktime-neuro/sktime_neuro/datasets/matching_pennies_util.py:8: RuntimeWarning: Did not find any eeg.json associated with sub-07_task-matchingpennies.\n",
      "\n",
      "The search_str was \"/home/patchouli/programming/foss/sktime-neuro/cache/eeg_matchingpennies/sub-07/**/eeg/sub-07*eeg.json\"\n",
      "  return read_raw_bids(bids_path=bidspath, verbose=False)\n",
      "[Parallel(n_jobs=-1)]: Using backend LokyBackend with 16 concurrent workers.\n",
      "[Parallel(n_jobs=-1)]: Done   3 out of  10 | elapsed:   22.9s remaining:   53.3s\n",
      "[Parallel(n_jobs=-1)]: Done   5 out of  10 | elapsed:   25.0s remaining:   25.0s\n",
      "[Parallel(n_jobs=-1)]: Done   7 out of  10 | elapsed:   25.9s remaining:   11.1s\n",
      "[Parallel(n_jobs=-1)]: Done  10 out of  10 | elapsed:   27.5s finished\n"
     ]
    }
   ],
   "source": [
    "p8, p8a, p8s = process(8)\n",
    "p7, p7a, p7s = process(7)"
   ],
   "metadata": {
    "collapsed": false,
    "pycharm": {
     "name": "#%%\n"
    }
   }
  },
  {
   "cell_type": "code",
   "execution_count": 5,
   "outputs": [],
   "source": [
    "onsetlabels = [\"raised-right/match-true\", \"raised-right/match-false\",\n",
    "          \"raised-left/match-true\", \"raised-left/match-false\"]\n",
    "#epoched, labels = epoch(p8d, annotation, onsetlabels, [-2,2], sfreq=p8r.info['sfreq'])\n",
    "p8e, p8l = epoch(p8, p8a, onsetlabels, [-2,2], sfreq=p8s)\n",
    "p7e, p7l = epoch(p7, p7a, onsetlabels, [-2,2], sfreq=p7s)"
   ],
   "metadata": {
    "collapsed": false,
    "pycharm": {
     "name": "#%%\n"
    }
   }
  },
  {
   "cell_type": "code",
   "execution_count": 6,
   "outputs": [
    {
     "data": {
      "text/plain": "RocketClassifier(n_jobs=-1)"
     },
     "execution_count": 6,
     "metadata": {},
     "output_type": "execute_result"
    }
   ],
   "source": [
    "#classcount = p8e.shape[1]\n",
    "rocket = RocketClassifier(n_jobs=-1)\n",
    "rocket.fit(p8e, p8l)\n",
    "#pred = rocket.predict(p7e)"
   ],
   "metadata": {
    "collapsed": false,
    "pycharm": {
     "name": "#%%\n"
    }
   }
  },
  {
   "cell_type": "code",
   "execution_count": 13,
   "outputs": [],
   "source": [
    "ypred = rocket.predict(p7e)"
   ],
   "metadata": {
    "collapsed": false,
    "pycharm": {
     "name": "#%%\n"
    }
   }
  },
  {
   "cell_type": "code",
   "execution_count": 18,
   "outputs": [
    {
     "name": "stdout",
     "output_type": "stream",
     "text": [
      "                          precision    recall  f1-score   support\n",
      "\n",
      " raised-left/match-false       0.72      0.23      0.35       158\n",
      "  raised-left/match-true       0.04      0.44      0.07         9\n",
      "raised-right/match-false       0.08      0.24      0.12        17\n",
      " raised-right/match-true       0.55      0.48      0.52       116\n",
      "\n",
      "                accuracy                           0.33       300\n",
      "               macro avg       0.35      0.35      0.26       300\n",
      "            weighted avg       0.60      0.33      0.39       300\n",
      "\n"
     ]
    }
   ],
   "source": [
    "print(classification_report(ypred, p7l))"
   ],
   "metadata": {
    "collapsed": false,
    "pycharm": {
     "name": "#%%\n"
    }
   }
  }
 ],
 "metadata": {
  "kernelspec": {
   "display_name": "Python 3",
   "language": "python",
   "name": "python3"
  },
  "language_info": {
   "codemirror_mode": {
    "name": "ipython",
    "version": 2
   },
   "file_extension": ".py",
   "mimetype": "text/x-python",
   "name": "python",
   "nbconvert_exporter": "python",
   "pygments_lexer": "ipython2",
   "version": "2.7.6"
  }
 },
 "nbformat": 4,
 "nbformat_minor": 0
}