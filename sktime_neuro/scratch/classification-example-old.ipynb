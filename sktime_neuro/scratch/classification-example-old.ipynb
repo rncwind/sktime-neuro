{
 "cells": [
  {
   "cell_type": "code",
   "execution_count": 55,
   "outputs": [],
   "source": [
    "# get data\n",
    "from sktime_neuro.datasets.bci.BCIDownloader import fetch_datasets_from_contest\n",
    "from sktime_neuro.datasets.bci.BCI_utils import process_dataset_mat, process_dataset_gdf\n",
    "# ML stuff\n",
    "from mne.decoding import CSP\n",
    "from sklearn.discriminant_analysis import LinearDiscriminantAnalysis\n",
    "from sklearn.model_selection import GridSearchCV\n",
    "from sklearn.pipeline import Pipeline\n",
    "# series to series transformer\n",
    "# Replace the detrender so we can use sktime 0.10+\n",
    "from sktime_neuro.transformations.multivariate_detrender import ColumnEnsembleDetrender, DumbDetrender\n",
    "\n",
    "# panel to panel transformers\n",
    "from sktime_neuro.transformations.panel.baselinecorrection import BaselineCorrectionTransformer as Baseline\n",
    "from sktime_neuro.transformations.panel.timeslicing import TimeSlicingTransformer\n",
    "from sktime_neuro.transformations.series.filterforseries import FilterforSeries\n",
    "from sktime_neuro.transformations.series_to_panel.eeg_epoching import epoch\n",
    "# Serialise\n",
    "import pickle"
   ],
   "metadata": {
    "collapsed": false,
    "pycharm": {
     "name": "#%%\n"
    }
   }
  },
  {
   "cell_type": "code",
   "execution_count": 56,
   "outputs": [
    {
     "name": "stdout",
     "output_type": "stream",
     "text": [
      "The dotenv extension is already loaded. To reload it, use:\n",
      "  %reload_ext dotenv\n"
     ]
    }
   ],
   "source": [
    "# Set environment variables\n",
    "from dotenv import *\n",
    "import os\n",
    "os.environ[\"BCI_USERNAME\"] = \"YOUR EMAIL FOR BCI HERE\"\n",
    "os.environ[\"BCI_PASSWORD\"] = \"YOUR PASSWORD FOR BCI HERE\"\n",
    "\n",
    "# if we have a .env then override them.\n",
    "%load_ext dotenv\n",
    "%dotenv -o\n"
   ],
   "metadata": {
    "collapsed": false,
    "pycharm": {
     "name": "#%%\n"
    }
   }
  },
  {
   "cell_type": "code",
   "execution_count": 57,
   "outputs": [],
   "source": [
    "def preprocessing_procedure(fs, data_train, annotation_train, labels, duration):\n",
    "    # In general, we want to detrend the data, however due to changes in sktime 0.10\n",
    "    # the detrender no longer works for multivariate data.\n",
    "    #detrended_data = data_train\n",
    "    dt = ColumnEnsembleDetrender(data_train)\n",
    "    detrended_data = dt.fit_predict()\n",
    "    filtered_data = FilterforSeries(l_freq=8, h_freq=15, sfreq=int(fs)).fit_transform(\n",
    "        detrended_data\n",
    "    )\n",
    "    data_train, labels_train = epoch(\n",
    "        Z=filtered_data,\n",
    "        annotation=annotation_train,\n",
    "        labels=labels,\n",
    "        interval=[-0.5, duration],\n",
    "        sfreq=fs,\n",
    "    )\n",
    "    print(\"shape of epoched data: \" + str(data_train.shape))\n",
    "\n",
    "    bl_corrected = Baseline(upper=0.5, fs=int(fs)).fit_transform(data_train)\n",
    "    final_training = TimeSlicingTransformer(start=0.5, fs=int(fs)).fit_transform(\n",
    "        bl_corrected\n",
    "    )\n",
    "    return final_training, labels_train"
   ],
   "metadata": {
    "collapsed": false,
    "pycharm": {
     "name": "#%%\n"
    }
   }
  },
  {
   "cell_type": "code",
   "execution_count": 58,
   "outputs": [],
   "source": [
    "def training_procedure(final_training, labels_train):\n",
    "    # Assemble a classifier\n",
    "    csp = CSP(transform_into=\"average_power\")\n",
    "    lda = LinearDiscriminantAnalysis()\n",
    "    param_grid = {\n",
    "        \"CSP__n_components\": [1, 2, 3, 4, 5, 7, 10],\n",
    "    }\n",
    "    from sklearn.ensemble import RandomForestClassifier\n",
    "    rf = RandomForestClassifier()\n",
    "\n",
    "    # Use scikit-learn Pipeline with cross_val_score function\n",
    "    pipe = Pipeline(steps=[(\"CSP\", csp), (\"LDA\", lda), (\"RF\", rf)])\n",
    "    pipe.fit(final_training, labels_train)\n",
    "    return pipe\n",
    "    #search = GridSearchCV(pipe, param_grid, n_jobs=-1)\n",
    "    #search.fit(final_training, labels_train)\n",
    "    #print(\"Best parameter (CV score=%0.3f):\" % search.best_score_)\n",
    "    #print(search.best_params_)"
   ],
   "metadata": {
    "collapsed": false,
    "pycharm": {
     "name": "#%%\n"
    }
   }
  },
  {
   "cell_type": "code",
   "execution_count": 59,
   "outputs": [],
   "source": [
    "def load_training_data():\n",
    "    if os.path.isfile(\"train.pickle\") is False:\n",
    "        raw_mat = fetch_datasets_from_contest(\"BCICIV_1_mat\", [\"BCICIV_calib_ds1d.mat\"])[0]\n",
    "        fs, data_train, annotation_train = process_dataset_mat(raw_mat)\n",
    "        final_training, labels = preprocessing_procedure(\n",
    "            fs, data_train, annotation_train, labels=[-1, 1], duration=2.5\n",
    "        )\n",
    "        with open(\"train.pickle\", \"wb\") as outfile:\n",
    "            pickle.dump(final_training, outfile)\n",
    "        with open(\"lables.pickle\", \"wb\") as outfile:\n",
    "            pickle.dump(labels, outfile)\n",
    "    else:\n",
    "        with open(\"train.pickle\", \"rb\") as infile:\n",
    "            final_training = pickle.load(infile)\n",
    "        with open(\"lables.pickle\", \"rb\") as infile:\n",
    "            labels = pickle.load(infile)\n",
    "    return final_training, labels"
   ],
   "metadata": {
    "collapsed": false,
    "pycharm": {
     "name": "#%%\n"
    }
   }
  },
  {
   "cell_type": "code",
   "execution_count": 60,
   "outputs": [],
   "source": [
    "def load_test_data():\n",
    "    if os.path.isfile(\"test.pickle\") is False:\n",
    "        raw_mat = fetch_datasets_from_contest(\"BCICIV_1_mat\", [\"BCICIV_eval_ds1d.mat\"])[0]\n",
    "        fs, data_test, annotation_train = process_dataset_mat(raw_mat)\n",
    "        final_test, test_labels = preprocessing_procedure(\n",
    "            fs, data_test, annotation_train, labels=[-1, 1], duration=2.5\n",
    "        )\n",
    "        with open(\"test.pickle\", \"wb\") as outfile:\n",
    "            pickle.dump(final_test, outfile)\n",
    "        with open(\"testlables.pickle\", \"wb\") as outfile:\n",
    "            pickle.dump(test_labels, outfile)\n",
    "    else:\n",
    "        with open(\"test.pickle\", \"rb\") as infile:\n",
    "            final_test = pickle.load(infile)\n",
    "        with open(\"testlables.pickle\", \"rb\") as infile:\n",
    "            test_labels = pickle.load(infile)\n",
    "    return final_test, test_labels"
   ],
   "metadata": {
    "collapsed": false,
    "pycharm": {
     "name": "#%%\n"
    }
   }
  },
  {
   "cell_type": "markdown",
   "source": [
    "# BCI dataset"
   ],
   "metadata": {
    "collapsed": false,
    "pycharm": {
     "name": "#%% md\n"
    }
   }
  },
  {
   "cell_type": "code",
   "execution_count": 63,
   "outputs": [
    {
     "name": "stdout",
     "output_type": "stream",
     "text": [
      "Computing rank from data with rank=None\n",
      "    Using tolerance 4.5e-13 (2.2e-16 eps * 59 dim * 34  max singular value)\n",
      "    Estimated rank (mag): 59\n",
      "    MAG: rank 59 computed from 59 data channels with 0 projectors\n",
      "Reducing data rank from 59 -> 59\n",
      "Estimating covariance using EMPIRICAL\n",
      "Done.\n",
      "Computing rank from data with rank=None\n",
      "    Using tolerance 4.1e-13 (2.2e-16 eps * 59 dim * 31  max singular value)\n",
      "    Estimated rank (mag): 59\n",
      "    MAG: rank 59 computed from 59 data channels with 0 projectors\n",
      "Reducing data rank from 59 -> 59\n",
      "Estimating covariance using EMPIRICAL\n",
      "Done.\n"
     ]
    },
    {
     "ename": "KeyboardInterrupt",
     "evalue": "",
     "output_type": "error",
     "traceback": [
      "\u001B[0;31m---------------------------------------------------------------------------\u001B[0m",
      "\u001B[0;31mKeyboardInterrupt\u001B[0m                         Traceback (most recent call last)",
      "Input \u001B[0;32mIn [63]\u001B[0m, in \u001B[0;36m<cell line: 6>\u001B[0;34m()\u001B[0m\n\u001B[1;32m      4\u001B[0m pipe \u001B[38;5;241m=\u001B[39m training_procedure(final_training, labels)\n\u001B[1;32m      5\u001B[0m pipe\u001B[38;5;241m.\u001B[39mpredict(test_data)\n\u001B[0;32m----> 6\u001B[0m \u001B[43mpipe\u001B[49m\u001B[38;5;241m.\u001B[39mscore(test_data, test_labels)\n",
      "Input \u001B[0;32mIn [63]\u001B[0m, in \u001B[0;36m<cell line: 6>\u001B[0;34m()\u001B[0m\n\u001B[1;32m      4\u001B[0m pipe \u001B[38;5;241m=\u001B[39m training_procedure(final_training, labels)\n\u001B[1;32m      5\u001B[0m pipe\u001B[38;5;241m.\u001B[39mpredict(test_data)\n\u001B[0;32m----> 6\u001B[0m \u001B[43mpipe\u001B[49m\u001B[38;5;241m.\u001B[39mscore(test_data, test_labels)\n",
      "File \u001B[0;32m/opt/pycharm-professional/plugins/python/helpers/pydev/_pydevd_bundle/pydevd_frame.py:747\u001B[0m, in \u001B[0;36mPyDBFrame.trace_dispatch\u001B[0;34m(self, frame, event, arg)\u001B[0m\n\u001B[1;32m    745\u001B[0m \u001B[38;5;66;03m# if thread has a suspend flag, we suspend with a busy wait\u001B[39;00m\n\u001B[1;32m    746\u001B[0m \u001B[38;5;28;01mif\u001B[39;00m info\u001B[38;5;241m.\u001B[39mpydev_state \u001B[38;5;241m==\u001B[39m STATE_SUSPEND:\n\u001B[0;32m--> 747\u001B[0m     \u001B[38;5;28;43mself\u001B[39;49m\u001B[38;5;241;43m.\u001B[39;49m\u001B[43mdo_wait_suspend\u001B[49m\u001B[43m(\u001B[49m\u001B[43mthread\u001B[49m\u001B[43m,\u001B[49m\u001B[43m \u001B[49m\u001B[43mframe\u001B[49m\u001B[43m,\u001B[49m\u001B[43m \u001B[49m\u001B[43mevent\u001B[49m\u001B[43m,\u001B[49m\u001B[43m \u001B[49m\u001B[43marg\u001B[49m\u001B[43m)\u001B[49m\n\u001B[1;32m    748\u001B[0m     \u001B[38;5;66;03m# No need to reset frame.f_trace to keep the same trace function.\u001B[39;00m\n\u001B[1;32m    749\u001B[0m     \u001B[38;5;28;01mreturn\u001B[39;00m \u001B[38;5;28mself\u001B[39m\u001B[38;5;241m.\u001B[39mtrace_dispatch\n",
      "File \u001B[0;32m/opt/pycharm-professional/plugins/python/helpers/pydev/_pydevd_bundle/pydevd_frame.py:144\u001B[0m, in \u001B[0;36mPyDBFrame.do_wait_suspend\u001B[0;34m(self, *args, **kwargs)\u001B[0m\n\u001B[1;32m    143\u001B[0m \u001B[38;5;28;01mdef\u001B[39;00m \u001B[38;5;21mdo_wait_suspend\u001B[39m(\u001B[38;5;28mself\u001B[39m, \u001B[38;5;241m*\u001B[39margs, \u001B[38;5;241m*\u001B[39m\u001B[38;5;241m*\u001B[39mkwargs):\n\u001B[0;32m--> 144\u001B[0m     \u001B[38;5;28;43mself\u001B[39;49m\u001B[38;5;241;43m.\u001B[39;49m\u001B[43m_args\u001B[49m\u001B[43m[\u001B[49m\u001B[38;5;241;43m0\u001B[39;49m\u001B[43m]\u001B[49m\u001B[38;5;241;43m.\u001B[39;49m\u001B[43mdo_wait_suspend\u001B[49m\u001B[43m(\u001B[49m\u001B[38;5;241;43m*\u001B[39;49m\u001B[43margs\u001B[49m\u001B[43m,\u001B[49m\u001B[43m \u001B[49m\u001B[38;5;241;43m*\u001B[39;49m\u001B[38;5;241;43m*\u001B[39;49m\u001B[43mkwargs\u001B[49m\u001B[43m)\u001B[49m\n",
      "File \u001B[0;32m/opt/pycharm-professional/plugins/python/helpers/pydev/pydevd.py:1155\u001B[0m, in \u001B[0;36mPyDB.do_wait_suspend\u001B[0;34m(self, thread, frame, event, arg, send_suspend_message, is_unhandled_exception)\u001B[0m\n\u001B[1;32m   1152\u001B[0m         from_this_thread\u001B[38;5;241m.\u001B[39mappend(frame_id)\n\u001B[1;32m   1154\u001B[0m \u001B[38;5;28;01mwith\u001B[39;00m \u001B[38;5;28mself\u001B[39m\u001B[38;5;241m.\u001B[39m_threads_suspended_single_notification\u001B[38;5;241m.\u001B[39mnotify_thread_suspended(thread_id, stop_reason):\n\u001B[0;32m-> 1155\u001B[0m     \u001B[38;5;28;43mself\u001B[39;49m\u001B[38;5;241;43m.\u001B[39;49m\u001B[43m_do_wait_suspend\u001B[49m\u001B[43m(\u001B[49m\u001B[43mthread\u001B[49m\u001B[43m,\u001B[49m\u001B[43m \u001B[49m\u001B[43mframe\u001B[49m\u001B[43m,\u001B[49m\u001B[43m \u001B[49m\u001B[43mevent\u001B[49m\u001B[43m,\u001B[49m\u001B[43m \u001B[49m\u001B[43marg\u001B[49m\u001B[43m,\u001B[49m\u001B[43m \u001B[49m\u001B[43msuspend_type\u001B[49m\u001B[43m,\u001B[49m\u001B[43m \u001B[49m\u001B[43mfrom_this_thread\u001B[49m\u001B[43m)\u001B[49m\n",
      "File \u001B[0;32m/opt/pycharm-professional/plugins/python/helpers/pydev/pydevd.py:1170\u001B[0m, in \u001B[0;36mPyDB._do_wait_suspend\u001B[0;34m(self, thread, frame, event, arg, suspend_type, from_this_thread)\u001B[0m\n\u001B[1;32m   1167\u001B[0m             \u001B[38;5;28mself\u001B[39m\u001B[38;5;241m.\u001B[39m_call_mpl_hook()\n\u001B[1;32m   1169\u001B[0m         \u001B[38;5;28mself\u001B[39m\u001B[38;5;241m.\u001B[39mprocess_internal_commands()\n\u001B[0;32m-> 1170\u001B[0m         \u001B[43mtime\u001B[49m\u001B[38;5;241;43m.\u001B[39;49m\u001B[43msleep\u001B[49m\u001B[43m(\u001B[49m\u001B[38;5;241;43m0.01\u001B[39;49m\u001B[43m)\u001B[49m\n\u001B[1;32m   1172\u001B[0m \u001B[38;5;28mself\u001B[39m\u001B[38;5;241m.\u001B[39mcancel_async_evaluation(get_current_thread_id(thread), \u001B[38;5;28mstr\u001B[39m(\u001B[38;5;28mid\u001B[39m(frame)))\n\u001B[1;32m   1174\u001B[0m \u001B[38;5;66;03m# process any stepping instructions\u001B[39;00m\n",
      "\u001B[0;31mKeyboardInterrupt\u001B[0m: "
     ]
    }
   ],
   "source": [
    "final_training, labels = load_training_data()\n",
    "test_data, test_labels = load_test_data()\n",
    "\n",
    "pipe = training_procedure(final_training, labels)\n",
    "pipe.predict(test_data)\n",
    "pipe.score(test_data, test_labels)"
   ],
   "metadata": {
    "collapsed": false,
    "pycharm": {
     "name": "#%%\n"
    }
   }
  },
  {
   "cell_type": "code",
   "execution_count": 61,
   "outputs": [],
   "source": [],
   "metadata": {
    "collapsed": false,
    "pycharm": {
     "name": "#%%\n"
    }
   }
  }
 ],
 "metadata": {
  "kernelspec": {
   "display_name": "Python 3",
   "language": "python",
   "name": "python3"
  },
  "language_info": {
   "codemirror_mode": {
    "name": "ipython",
    "version": 2
   },
   "file_extension": ".py",
   "mimetype": "text/x-python",
   "name": "python",
   "nbconvert_exporter": "python",
   "pygments_lexer": "ipython2",
   "version": "2.7.6"
  }
 },
 "nbformat": 4,
 "nbformat_minor": 0
}