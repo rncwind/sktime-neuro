{
 "cells": [
  {
   "cell_type": "code",
   "execution_count": 1,
   "metadata": {
    "collapsed": true,
    "pycharm": {
     "name": "#%%\n"
    }
   },
   "outputs": [],
   "source": [
    "import numpy as np\n",
    "import matplotlib.pyplot as plt\n",
    "import pandas as pd\n",
    "from sklearn.model_selection import *\n",
    "from sktime_neuro.datasets.matching_pennies_util import *\n",
    "from sktime_neuro.transformations.multivariate_detrender import ColumnDetrender\n",
    "from sktime_neuro.transformations.preprocessing.PREP import do_prep, build_prep_params\n",
    "from sktime_neuro.transformations.series_to_panel.eeg_epoching import epoch\n",
    "from sktime_neuro.utils.mne_processing import create_annotation\n",
    "from sktime.classification.kernel_based import RocketClassifier\n",
    "from sktime_neuro.datasets.matching_pennies_util import PENNIES_ONSET_LABELS, load_pickles\n",
    "from sklearn.metrics import *\n",
    "from typing import *"
   ]
  },
  {
   "cell_type": "code",
   "execution_count": 2,
   "outputs": [],
   "source": [
    "def detrend(data, n_jobs=1) -> np.ndarray:\n",
    "    dt = ColumnDetrender(data)\n",
    "    return dt.detrend(n_jobs=n_jobs)"
   ],
   "metadata": {
    "collapsed": false,
    "pycharm": {
     "name": "#%%\n"
    }
   }
  },
  {
   "cell_type": "code",
   "execution_count": 3,
   "outputs": [],
   "source": [
    "def load_subject(subjectId: int) -> Tuple[np.ndarray, np.ndarray, float]:\n",
    "    raw = get_raw(subjectId)\n",
    "    sf = raw.info[\"sfreq\"]\n",
    "    annotations = create_annotation(raw)\n",
    "    data = raw.get_data().transpose()\n",
    "    detrended = detrend(data, -1)\n",
    "    return annotations, detrended, sf\n",
    "\n",
    "def load_all_subjects() -> List[Tuple[np.ndarray, np.ndarray, float]]:\n",
    "    allData = []\n",
    "    for i in range(5,12):\n",
    "        allData.append(load_subject(i))\n",
    "    return allData"
   ],
   "metadata": {
    "collapsed": false,
    "pycharm": {
     "name": "#%%\n"
    }
   }
  },
  {
   "cell_type": "code",
   "execution_count": 4,
   "outputs": [],
   "source": [
    "def epoch_subject(subjectData: Tuple[np.ndarray, np.ndarray, float]) -> Tuple[np.ndarray, np.ndarray]:\n",
    "    epochs, annotations = epoch(subjectData[1], subjectData[0], PENNIES_ONSET_LABELS, [-0.5, 0.5], sfreq=subjectData[2])\n",
    "    return epochs, annotations\n",
    "\n",
    "def epoch_set(dataset: List[Tuple[np.ndarray, np.ndarray, float]]) -> List[Tuple[np.ndarray, np.ndarray]]:\n",
    "    epoched = []\n",
    "    for subj in dataset:\n",
    "        epoched.append(epoch_subject(subj))\n",
    "    return epoched"
   ],
   "metadata": {
    "collapsed": false,
    "pycharm": {
     "name": "#%%\n"
    }
   }
  },
  {
   "cell_type": "code",
   "execution_count": 5,
   "outputs": [],
   "source": [
    "# Uncomment this if you don't have them pickled already\n",
    "#allData = load_all_subjects()\n",
    "allData = load_pickles(\"detrended\")"
   ],
   "metadata": {
    "collapsed": false,
    "pycharm": {
     "name": "#%%\n"
    }
   }
  },
  {
   "cell_type": "code",
   "execution_count": 6,
   "outputs": [],
   "source": [
    "epochedSet = epoch_set(allData)"
   ],
   "metadata": {
    "collapsed": false,
    "pycharm": {
     "name": "#%%\n"
    }
   }
  },
  {
   "cell_type": "code",
   "execution_count": 7,
   "outputs": [],
   "source": [
    "# Build a train set. [0][0] for the data, [0][1] for labels\n",
    "# This creates a 225/75 split of /epochs/\n",
    "x_train, x_test, y_train, y_test = train_test_split(epochedSet[0][0], epochedSet[0][1])"
   ],
   "metadata": {
    "collapsed": false,
    "pycharm": {
     "name": "#%%\n"
    }
   }
  },
  {
   "cell_type": "code",
   "execution_count": 8,
   "outputs": [
    {
     "data": {
      "text/plain": "0.5466666666666666"
     },
     "execution_count": 8,
     "metadata": {},
     "output_type": "execute_result"
    }
   ],
   "source": [
    "rocket = RocketClassifier(n_jobs=16)\n",
    "rocket.fit(x_train, y_train)\n",
    "pred = rocket.predict(x_test)"
   ],
   "metadata": {
    "collapsed": false,
    "pycharm": {
     "name": "#%%\n"
    }
   }
  },
  {
   "cell_type": "code",
   "execution_count": 15,
   "outputs": [
    {
     "name": "stdout",
     "output_type": "stream",
     "text": [
      "                          precision    recall  f1-score   support\n",
      "\n",
      " raised-left/match-false       0.54      0.68      0.60        19\n",
      "  raised-left/match-true       0.51      1.00      0.68        18\n",
      "raised-right/match-false       1.00      0.15      0.26        20\n",
      " raised-right/match-true       0.54      0.39      0.45        18\n",
      "\n",
      "                accuracy                           0.55        75\n",
      "               macro avg       0.65      0.56      0.50        75\n",
      "            weighted avg       0.66      0.55      0.49        75\n",
      "\n"
     ]
    }
   ],
   "source": [
    "print(classification_report(y_test, pred))"
   ],
   "metadata": {
    "collapsed": false,
    "pycharm": {
     "name": "#%%\n"
    }
   }
  },
  {
   "cell_type": "code",
   "execution_count": 17,
   "outputs": [
    {
     "name": "stdout",
     "output_type": "stream",
     "text": [
      "[0.63333333 0.63333333 0.68333333 0.56666667 0.7       ]\n",
      "[0.41666667 0.43333333 0.3        0.38333333 0.33333333]\n",
      "[0.53333333 0.6        0.63333333 0.55       0.56666667]\n",
      "[0.38333333 0.28333333 0.55       0.46666667 0.55      ]\n",
      "[0.88333333 0.88333333 0.86666667 0.7        0.88333333]\n",
      "[0.66666667 0.75       0.68333333 0.61666667 0.6       ]\n",
      "[0.43333333 0.55       0.55       0.41666667 0.55      ]\n"
     ]
    },
    {
     "ename": "IndexError",
     "evalue": "list index out of range",
     "output_type": "error",
     "traceback": [
      "\u001B[0;31m---------------------------------------------------------------------------\u001B[0m",
      "\u001B[0;31mIndexError\u001B[0m                                Traceback (most recent call last)",
      "Input \u001B[0;32mIn [17]\u001B[0m, in \u001B[0;36m<cell line: 1>\u001B[0;34m()\u001B[0m\n\u001B[1;32m      1\u001B[0m \u001B[38;5;28;01mfor\u001B[39;00m i \u001B[38;5;129;01min\u001B[39;00m \u001B[38;5;28mrange\u001B[39m(\u001B[38;5;241m0\u001B[39m,\u001B[38;5;28mlen\u001B[39m(epochedSet) \u001B[38;5;241m+\u001B[39m \u001B[38;5;241m1\u001B[39m):\n\u001B[1;32m      2\u001B[0m     \u001B[38;5;66;03m#x_train, x_test, y_train, y_test = train_test_split(epochedSet[i][0], epochedSet[i][1])\u001B[39;00m\n\u001B[0;32m----> 3\u001B[0m     scores \u001B[38;5;241m=\u001B[39m cross_val_score(rocket, \u001B[43mepochedSet\u001B[49m\u001B[43m[\u001B[49m\u001B[43mi\u001B[49m\u001B[43m]\u001B[49m[\u001B[38;5;241m0\u001B[39m], epochedSet[i][\u001B[38;5;241m1\u001B[39m], cv\u001B[38;5;241m=\u001B[39m\u001B[38;5;241m5\u001B[39m)\n\u001B[1;32m      4\u001B[0m     \u001B[38;5;28mprint\u001B[39m(scores)\n",
      "\u001B[0;31mIndexError\u001B[0m: list index out of range"
     ]
    }
   ],
   "source": [
    "scorevec = []\n",
    "for i in range(0,len(epochedSet)):\n",
    "    #x_train, x_test, y_train, y_test = train_test_split(epochedSet[i][0], epochedSet[i][1])\n",
    "    scores = cross_val_score(rocket, epochedSet[i][0], epochedSet[i][1], cv=5)\n",
    "    scorevec.append(scores)\n",
    "    print(scores)"
   ],
   "metadata": {
    "collapsed": false,
    "pycharm": {
     "name": "#%%\n"
    }
   }
  },
  {
   "cell_type": "code",
   "execution_count": 19,
   "outputs": [
    {
     "data": {
      "text/plain": "<Figure size 432x288 with 1 Axes>",
      "image/png": "[encoded data removed]"
     },
     "metadata": {
      "needs_background": "light"
     },
     "output_type": "display_data"
    }
   ],
   "source": [
    "results = np.array([[0.41666667,0.43333333,0.3,0.38333333,0.33333333],\n",
    "            [0.53333333,0.6,0.63333333,0.55,0.56666667],\n",
    "            [0.38333333,0.28333333,0.55,0.46666667,0.55],\n",
    "            [0.88333333,0.88333333,0.86666667,0.7,0.88333333],\n",
    "            [0.66666667,0.75,0.68333333,0.61666667,0.6],\n",
    "            [0.43333333,0.55,0.55,0.41666667,0.55]])\n",
    "plt.plot(results)\n",
    "plt.show()"
   ],
   "metadata": {
    "collapsed": false,
    "pycharm": {
     "name": "#%%[0.63333333,0.63333333,0.68333333,0.56666667,0.7]\n"
    }
   }
  },
  {
   "cell_type": "code",
   "execution_count": 29,
   "outputs": [
    {
     "name": "stdout",
     "output_type": "stream",
     "text": [
      "0.37333333199999996\t0.050110988105293804\n",
      "0.576666666\t0.03590109828094098\n",
      "0.44666666599999993\t0.10241527824391139\n",
      "0.843333332\t0.0719567762541437\n",
      "0.663333334\t0.05312459070692013\n",
      "0.5\t0.06146362953451059\n",
      "0.5672222216666667\t0.16746936339868407\t0.028045987677160506\t[0.28333333 0.43333333 0.55       0.65833334 0.88333333]\n"
     ]
    }
   ],
   "source": [
    "#print(results[0,:])\n",
    "for row in results:\n",
    "    mean = np.mean(row)\n",
    "    std = np.std(row)\n",
    "    print(f\"{mean}\\t{std}\")"
   ],
   "metadata": {
    "collapsed": false,
    "pycharm": {
     "name": "#%%\n"
    }
   }
  }
 ],
 "metadata": {
  "kernelspec": {
   "display_name": "Python 3",
   "language": "python",
   "name": "python3"
  },
  "language_info": {
   "codemirror_mode": {
    "name": "ipython",
    "version": 2
   },
   "file_extension": ".py",
   "mimetype": "text/x-python",
   "name": "python",
   "nbconvert_exporter": "python",
   "pygments_lexer": "ipython2",
   "version": "2.7.6"
  }
 },
 "nbformat": 4,
 "nbformat_minor": 0
}